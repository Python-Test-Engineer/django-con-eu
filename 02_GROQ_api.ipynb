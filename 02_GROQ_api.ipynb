{
 "cells": [
  {
   "cell_type": "code",
   "execution_count": 1,
   "id": "de23bb9e-37c5-4377-9a82-d7b6c648eeb6",
   "metadata": {},
   "outputs": [],
   "source": [
    "import os\n",
    "import json\n",
    "import requests\n",
    "from dotenv import load_dotenv\n",
    "from pprint import pprint\n",
    "import openai\n",
    "from groq import Groq\n",
    "\n",
    "# we now use OpenAI to send requests\n",
    "from openai import OpenAI"
   ]
  },
  {
   "cell_type": "code",
   "execution_count": 2,
   "id": "17ce3c2c",
   "metadata": {},
   "outputs": [],
   "source": [
    "# for console formatting I use the Rich library\n",
    "from rich.console import Console\n",
    "\n",
    "console = Console()"
   ]
  },
  {
   "cell_type": "code",
   "execution_count": 3,
   "id": "1179b4c5-cd1f-4131-a876-4c9f3f38d2ba",
   "metadata": {},
   "outputs": [
    {
     "data": {
      "text/plain": [
       "True"
      ]
     },
     "execution_count": 3,
     "metadata": {},
     "output_type": "execute_result"
    }
   ],
   "source": [
    "# Load environment variables in a file called .env\n",
    "# Print the key prefixes to help with any debugging\n",
    "\n",
    "load_dotenv()"
   ]
  },
  {
   "cell_type": "code",
   "execution_count": 4,
   "id": "262c758d",
   "metadata": {},
   "outputs": [
    {
     "name": "stdout",
     "output_type": "stream",
     "text": [
      "GROQ API Key exists and begins gsk_11hFN1EMfj...\n"
     ]
    }
   ],
   "source": [
    "GROQ_API_KEY = os.environ.get(\"GROQ_API_KEY\")\n",
    "print(f\"GROQ API Key exists and begins {GROQ_API_KEY[:14]}...\")"
   ]
  },
  {
   "cell_type": "code",
   "execution_count": 5,
   "id": "378a0296-59a2-45c6-82eb-941344d3eeff",
   "metadata": {},
   "outputs": [],
   "source": [
    "system_message = \"You are an assistant that is great at telling jokes.\"\n",
    "# We create our user prompt and will add all of these to the payload.\n",
    "user_prompt = \"Give me a joke for a general audience\""
   ]
  },
  {
   "cell_type": "code",
   "execution_count": 6,
   "id": "80a6d874",
   "metadata": {},
   "outputs": [],
   "source": [
    "def get_response(system_message, user_prompt):\n",
    "    client = openai.OpenAI(\n",
    "        base_url=\"https://api.groq.com/openai/v1\",\n",
    "        api_key=GROQ_API_KEY,\n",
    "    )\n",
    "    response = client.chat.completions.create(\n",
    "        model=\"llama-3.3-70b-versatile\",\n",
    "        messages=[\n",
    "            {\"role\": \"system\", \"content\": system_message},\n",
    "            {\"role\": \"user\", \"content\": user_prompt},\n",
    "        ],\n",
    "        temperature=0.7,\n",
    "    )\n",
    "    return response"
   ]
  },
  {
   "cell_type": "code",
   "execution_count": 7,
   "id": "faa2d842",
   "metadata": {},
   "outputs": [],
   "source": [
    "response = get_response = get_response(system_message, user_prompt)"
   ]
  },
  {
   "cell_type": "code",
   "execution_count": 8,
   "id": "8f287773",
   "metadata": {},
   "outputs": [
    {
     "name": "stdout",
     "output_type": "stream",
     "text": [
      "Here's one:\n",
      "What do you call a fake noodle?\n",
      "(wait for it...)\n",
      "An impasta!\n",
      "I hope that one made you laugh! Do you want to hear another?\n"
     ]
    }
   ],
   "source": [
    "print(response.choices[0].message.content.replace(\"\\n\\n\", \"\\n\"))"
   ]
  }
 ],
 "metadata": {
  "kernelspec": {
   "display_name": "venv",
   "language": "python",
   "name": "python3"
  },
  "language_info": {
   "codemirror_mode": {
    "name": "ipython",
    "version": 3
   },
   "file_extension": ".py",
   "mimetype": "text/x-python",
   "name": "python",
   "nbconvert_exporter": "python",
   "pygments_lexer": "ipython3",
   "version": "3.12.9"
  }
 },
 "nbformat": 4,
 "nbformat_minor": 5
}
