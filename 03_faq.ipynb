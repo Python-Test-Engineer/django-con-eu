{
 "cells": [
  {
   "cell_type": "markdown",
   "id": "f8e520df",
   "metadata": {},
   "source": [
    "<img src=\"./images/03-faq.png\" width=700px>\n"
   ]
  },
  {
   "cell_type": "markdown",
   "id": "b44f832a",
   "metadata": {},
   "source": [
    "In this example we will see an example of RAG - Retrieval Augmented Generation.\n",
    "\n",
    "We have 'retrieved' some data and stored in the FAQ variable. In this demo, this is hard coded but there are a multitude of ways of RETRIEVING data to AUGMENT the prompt and consequent GENERATION.\n",
    "\n",
    "OpenAi does not have any domain specifice knowledge. In lieu of a fine tuned model on our domain, we can AUGMENT the prompt with retrieved data.\n",
    "\n",
    "RAG is not just asking questions of documents using vector search - it is augmenting the LLM request with additonal data in lieu of fine tuning the model.\n",
    "\n",
    "We are going to give it a list of FAQs so that we can use a ChatBot to ask questions.\n"
   ]
  },
  {
   "cell_type": "code",
   "execution_count": 29,
   "id": "70e39cd8-ec79-4e3e-9c26-5659d42d0861",
   "metadata": {},
   "outputs": [],
   "source": [
    "import os\n",
    "from dotenv import load_dotenv\n",
    "from openai import OpenAI\n",
    "import gradio as gr"
   ]
  },
  {
   "cell_type": "code",
   "execution_count": 30,
   "id": "231605aa-fccb-447e-89cf-8b187444536a",
   "metadata": {},
   "outputs": [
    {
     "name": "stdout",
     "output_type": "stream",
     "text": [
      "OpenAI API Key exists and begins sk-proj-1WUVgv...\n"
     ]
    }
   ],
   "source": [
    "# Load environment variables in a file called .env\n",
    "# Print the key prefixes to help with any debugging\n",
    "\n",
    "load_dotenv()\n",
    "openai_api_key = os.getenv(\"OPENAI_API_KEY\")\n",
    "if openai_api_key:\n",
    "    print(f\"OpenAI API Key exists and begins {openai_api_key[:14]}...\")\n",
    "else:\n",
    "    print(\"OpenAI API Key not set\")"
   ]
  },
  {
   "cell_type": "code",
   "execution_count": 31,
   "id": "6541d58e-2297-4de1-b1f7-77da1b98b8bb",
   "metadata": {},
   "outputs": [],
   "source": [
    "# Initialize and select model to use\n",
    "client = OpenAI()\n",
    "MODEL = \"gpt-4o-mini\""
   ]
  },
  {
   "cell_type": "code",
   "execution_count": 32,
   "id": "1eacc8a4-4b48-4358-9e06-ce0020041bc1",
   "metadata": {},
   "outputs": [],
   "source": [
    "# A request to the LLM is stateless so we will always need to pass all the data that is needed each time.\n",
    "\n",
    "# `history` is just that - a record of what has gone on before so that the LLM can have context to answer the query.\n",
    "\n",
    "\n",
    "# We will use GRADIO as our UI.\n",
    "def chat(message, history):\n",
    "    # history is part of the gradio ChatInterface and it stores previous answers\n",
    "    messages = (\n",
    "        [{\"role\": \"system\", \"content\": system_message}]\n",
    "        + history\n",
    "        + [{\"role\": \"user\", \"content\": message}]\n",
    "    )\n",
    "    print(\"History is:\")\n",
    "    print(history)\n",
    "    print(\"And messages is:\")\n",
    "    print(messages)\n",
    "    # ====================\n",
    "    # AI bit\n",
    "    stream = client.chat.completions.create(model=MODEL, messages=messages, stream=True)\n",
    "\n",
    "    # Just UI implementation\n",
    "    response = \"\"\n",
    "    for stream_so_far in stream:\n",
    "        response += stream_so_far.choices[0].delta.content or \"\"\n",
    "        yield response"
   ]
  },
  {
   "cell_type": "code",
   "execution_count": 33,
   "id": "1f91b414-8bab-472d-b9c9-3fa51259bdfe",
   "metadata": {},
   "outputs": [],
   "source": [
    "# We set up the backround scenario in the system messaage.\n",
    "# In some frameworks this is called 'background' or 'character'.\n",
    "\n",
    "system_message = \"\"\"You are a helpful assistant for the Django Conference. \"\"\""
   ]
  },
  {
   "cell_type": "code",
   "execution_count": 34,
   "id": "11d57e30",
   "metadata": {},
   "outputs": [],
   "source": [
    "# FAQ is just data extracted from a source and inserted into the system message.\n",
    "# RAG - Retrieval Augmented Generation.\n",
    "# This does not need to be a vector search but additional information we pass to the LLM.\n",
    "FAQ = [\n",
    "    \"DjangoCon 2025 is taking place in Dublin\",\n",
    "    \"The dates are 23rd-27th April 2025\",\n",
    "    \"The venue is DjangoCon Europe 2025 will be held in Dublin! The capital of the Republic of Ireland, one of Europe’s biggest tech hubs, is a lively city with extraordinarily rich and diverse food, culture, history and art lovers - the number of museums and restaurants can certainly tickle most tastes.\",\n",
    "    \"The conference will take place at Talbot Hotel Stillorgan, Dublin\",\n",
    "    \"As an EU/EEA resident, you do not require a visa to travel to Ireland. You can enter the country freely under the Common Travel Area (CTA) agreements.\",\n",
    "    \"\"\"Documents to Carry\n",
    "    Even though a visa is not required, ensure you carry:\n",
    "    - A valid passport or national ID card.\n",
    "    - Proof of accommodation (e.g., hotel bookings or host details).\n",
    "    - Your DjangoCon Europe ticket or event confirmation.\n",
    "    - Travel insurance (optional but recommended).\n",
    "    \"\"\",\n",
    "    \"DjangoCon Europe 2025 offers grants so that those who might otherwise not be able to attend won't hesitate to participate. Some expenses for the conference attendance (which could include travel, hotel, registration, etc) will be covered for opportunity grant recipients.\",\n",
    "    \"The sponsors are Ambient, Caktus, Monit to name but a few.\",\n",
    "    \"\"\"Mentorship Program\n",
    "    Are you an experienced speaker eager to share your knowledge and guide aspiring speakers? Or are you planning to submit a proposal to DjangoCon Europe 2025 and looking for expert advice to craft a standout submission?\n",
    "\n",
    "    If you answered 'yes' to either question, this mentorship program is perfect for you!\n",
    "\n",
    "   \"\"\",\n",
    "    \"\"\" For Mentees This is How the Program Works\n",
    "    Our aim is to pair each mentee with a dedicated mentor to foster one-on-one guidance. To simplify scheduling, we prioritize matching participants in the same timezone or country whenever possible.\"\"\",\n",
    "]\n",
    "\n",
    "# Create the base system message - 'character and instructions' along with retrieved data.\n",
    "system_message += \"\\n\" + \"\\n\".join(FAQ)"
   ]
  },
  {
   "cell_type": "markdown",
   "id": "9f4f1b89",
   "metadata": {},
   "source": []
  },
  {
   "cell_type": "code",
   "execution_count": 35,
   "id": "413e9e4e-7836-43ac-a0c3-e1ab5ed6b136",
   "metadata": {},
   "outputs": [
    {
     "name": "stdout",
     "output_type": "stream",
     "text": [
      "* Running on local URL:  http://127.0.0.1:7864\n",
      "\n",
      "To create a public link, set `share=True` in `launch()`.\n"
     ]
    },
    {
     "data": {
      "text/html": [
       "<div><iframe src=\"http://127.0.0.1:7864/\" width=\"100%\" height=\"500\" allow=\"autoplay; camera; microphone; clipboard-read; clipboard-write;\" frameborder=\"0\" allowfullscreen></iframe></div>"
      ],
      "text/plain": [
       "<IPython.core.display.HTML object>"
      ]
     },
     "metadata": {},
     "output_type": "display_data"
    },
    {
     "data": {
      "text/plain": []
     },
     "execution_count": 35,
     "metadata": {},
     "output_type": "execute_result"
    },
    {
     "name": "stdout",
     "output_type": "stream",
     "text": [
      "History is:\n",
      "[]\n",
      "And messages is:\n",
      "[{'role': 'system', 'content': \"You are a helpful assistant for the Django Conference. \\nDjangoCon 2025 is taking place in Dublin\\nThe dates are 23rd-27th April 2025\\nThe venue is DjangoCon Europe 2025 will be held in Dublin! The capital of the Republic of Ireland, one of Europe’s biggest tech hubs, is a lively city with extraordinarily rich and diverse food, culture, history and art lovers - the number of museums and restaurants can certainly tickle most tastes.\\nThe conference will take place at Talbot Hotel Stillorgan, Dublin\\nAs an EU/EEA resident, you do not require a visa to travel to Ireland. You can enter the country freely under the Common Travel Area (CTA) agreements.\\nDocuments to Carry\\n    Even though a visa is not required, ensure you carry:\\n    - A valid passport or national ID card.\\n    - Proof of accommodation (e.g., hotel bookings or host details).\\n    - Your DjangoCon Europe ticket or event confirmation.\\n    - Travel insurance (optional but recommended).\\n    \\nDjangoCon Europe 2025 offers grants so that those who might otherwise not be able to attend won't hesitate to participate. Some expenses for the conference attendance (which could include travel, hotel, registration, etc) will be covered for opportunity grant recipients.\\nThe sponsors are Ambient, Caktus, Monit to name but a few.\\nMentorship Program\\n    Are you an experienced speaker eager to share your knowledge and guide aspiring speakers? Or are you planning to submit a proposal to DjangoCon Europe 2025 and looking for expert advice to craft a standout submission?\\n\\n    If you answered 'yes' to either question, this mentorship program is perfect for you!\\n\\n   \\n For Mentees This is How the Program Works\\n    Our aim is to pair each mentee with a dedicated mentor to foster one-on-one guidance. To simplify scheduling, we prioritize matching participants in the same timezone or country whenever possible.\"}, {'role': 'user', 'content': 'how can ig et help as a mentee'}]\n",
      "History is:\n",
      "[{'role': 'user', 'metadata': None, 'content': 'how can ig et help as a mentee', 'options': None}, {'role': 'assistant', 'metadata': None, 'content': \"As a mentee in the DjangoCon Europe 2025 Mentorship Program, you can benefit in several ways:\\n\\n1. **Expert Guidance**: You will be paired with an experienced mentor who can provide personalized advice and insights related to your interests, be it in speaking, proposal submissions, or general participation in the conference.\\n\\n2. **Feedback on Proposals**: If you're planning to submit a speaking proposal, your mentor can help you refine your idea, structure your presentation, and provide feedback to enhance its appeal.\\n\\n3. **Networking Opportunities**: Mentors often have extensive networks within the Django community. They can introduce you to other professionals, speakers, and attendees, helping you expand your connections.\\n\\n4. **Skill Development**: Depending on your goals, your mentor can guide you on improving your public speaking skills, content creation, or any specific technical topics related to Django.\\n\\n5. **Support and Encouragement**: Having a mentor provides emotional support, encouragement, and motivation as you navigate your journey in joining the conference and potentially speaking.\\n\\nTo get help as a mentee, you can express your interest in the mentorship program when you register for the conference or reach out to the organizers for more information on how to apply. Be sure to indicate your goals and what you would like to achieve through the mentorship.\", 'options': None}]\n",
      "And messages is:\n",
      "[{'role': 'system', 'content': \"You are a helpful assistant for the Django Conference. \\nDjangoCon 2025 is taking place in Dublin\\nThe dates are 23rd-27th April 2025\\nThe venue is DjangoCon Europe 2025 will be held in Dublin! The capital of the Republic of Ireland, one of Europe’s biggest tech hubs, is a lively city with extraordinarily rich and diverse food, culture, history and art lovers - the number of museums and restaurants can certainly tickle most tastes.\\nThe conference will take place at Talbot Hotel Stillorgan, Dublin\\nAs an EU/EEA resident, you do not require a visa to travel to Ireland. You can enter the country freely under the Common Travel Area (CTA) agreements.\\nDocuments to Carry\\n    Even though a visa is not required, ensure you carry:\\n    - A valid passport or national ID card.\\n    - Proof of accommodation (e.g., hotel bookings or host details).\\n    - Your DjangoCon Europe ticket or event confirmation.\\n    - Travel insurance (optional but recommended).\\n    \\nDjangoCon Europe 2025 offers grants so that those who might otherwise not be able to attend won't hesitate to participate. Some expenses for the conference attendance (which could include travel, hotel, registration, etc) will be covered for opportunity grant recipients.\\nThe sponsors are Ambient, Caktus, Monit to name but a few.\\nMentorship Program\\n    Are you an experienced speaker eager to share your knowledge and guide aspiring speakers? Or are you planning to submit a proposal to DjangoCon Europe 2025 and looking for expert advice to craft a standout submission?\\n\\n    If you answered 'yes' to either question, this mentorship program is perfect for you!\\n\\n   \\n For Mentees This is How the Program Works\\n    Our aim is to pair each mentee with a dedicated mentor to foster one-on-one guidance. To simplify scheduling, we prioritize matching participants in the same timezone or country whenever possible.\"}, {'role': 'user', 'metadata': None, 'content': 'how can ig et help as a mentee', 'options': None}, {'role': 'assistant', 'metadata': None, 'content': \"As a mentee in the DjangoCon Europe 2025 Mentorship Program, you can benefit in several ways:\\n\\n1. **Expert Guidance**: You will be paired with an experienced mentor who can provide personalized advice and insights related to your interests, be it in speaking, proposal submissions, or general participation in the conference.\\n\\n2. **Feedback on Proposals**: If you're planning to submit a speaking proposal, your mentor can help you refine your idea, structure your presentation, and provide feedback to enhance its appeal.\\n\\n3. **Networking Opportunities**: Mentors often have extensive networks within the Django community. They can introduce you to other professionals, speakers, and attendees, helping you expand your connections.\\n\\n4. **Skill Development**: Depending on your goals, your mentor can guide you on improving your public speaking skills, content creation, or any specific technical topics related to Django.\\n\\n5. **Support and Encouragement**: Having a mentor provides emotional support, encouragement, and motivation as you navigate your journey in joining the conference and potentially speaking.\\n\\nTo get help as a mentee, you can express your interest in the mentorship program when you register for the conference or reach out to the organizers for more information on how to apply. Be sure to indicate your goals and what you would like to achieve through the mentorship.\", 'options': None}, {'role': 'user', 'content': 'what is dublin like'}]\n",
      "History is:\n",
      "[{'role': 'user', 'metadata': None, 'content': 'how can ig et help as a mentee', 'options': None}, {'role': 'assistant', 'metadata': None, 'content': \"As a mentee in the DjangoCon Europe 2025 Mentorship Program, you can benefit in several ways:\\n\\n1. **Expert Guidance**: You will be paired with an experienced mentor who can provide personalized advice and insights related to your interests, be it in speaking, proposal submissions, or general participation in the conference.\\n\\n2. **Feedback on Proposals**: If you're planning to submit a speaking proposal, your mentor can help you refine your idea, structure your presentation, and provide feedback to enhance its appeal.\\n\\n3. **Networking Opportunities**: Mentors often have extensive networks within the Django community. They can introduce you to other professionals, speakers, and attendees, helping you expand your connections.\\n\\n4. **Skill Development**: Depending on your goals, your mentor can guide you on improving your public speaking skills, content creation, or any specific technical topics related to Django.\\n\\n5. **Support and Encouragement**: Having a mentor provides emotional support, encouragement, and motivation as you navigate your journey in joining the conference and potentially speaking.\\n\\nTo get help as a mentee, you can express your interest in the mentorship program when you register for the conference or reach out to the organizers for more information on how to apply. Be sure to indicate your goals and what you would like to achieve through the mentorship.\", 'options': None}, {'role': 'user', 'metadata': None, 'content': 'what is dublin like', 'options': None}, {'role': 'assistant', 'metadata': None, 'content': \"Dublin, the capital of the Republic of Ireland, is a vibrant and lively city known for its rich cultural heritage, history, and artistic scene. Here are some highlights of what Dublin is like:\\n\\n1. **Cultural Hub**: Dublin has a thriving arts and culture scene, with numerous theaters, galleries, and music venues. It's home to famous literary figures such as James Joyce, Samuel Beckett, and W.B. Yeats, and you can visit literary landmarks related to these authors.\\n\\n2. **Historical Attractions**: The city boasts a range of historical sites, including Dublin Castle, the impressive Trinity College with the Book of Kells, and Kilmainham Gaol, all of which offer insights into Ireland's history.\\n\\n3. **Diverse Food Scene**: Dublin has a rich culinary landscape that features traditional Irish cuisine as well as a variety of international options. You can find cozy pubs serving hearty meals, chic restaurants, and vibrant food markets.\\n\\n4. **Friendly Atmosphere**: Dubliners are known for their hospitality and friendliness, making the city welcoming for visitors. Locals are usually happy to share tips, directions, and stories.\\n\\n5. **Lively Nightlife**: The nightlife in Dublin is buzzing, with plenty of pubs, bars, and live music venues. Enjoying traditional Irish music in a local pub is a must-do experience.\\n\\n6. **Green Spaces**: Dublin is also home to beautiful parks and gardens, such as St. Stephen’s Green and Phoenix Park – one of the largest urban parks in Europe, offering a peaceful escape from the city’s hustle and bustle.\\n\\n7. **Modern Amenities**: As one of Europe’s biggest tech hubs, Dublin has a modern feel with an array of shops, cafes, and co-working spaces, making it a popular destination for tech enthusiasts.\\n\\nOverall, Dublin combines a mix of history, culture, and modern life, making it an exciting and enjoyable city to explore.\", 'options': None}]\n",
      "And messages is:\n",
      "[{'role': 'system', 'content': \"You are a helpful assistant for the Django Conference. \\nDjangoCon 2025 is taking place in Dublin\\nThe dates are 23rd-27th April 2025\\nThe venue is DjangoCon Europe 2025 will be held in Dublin! The capital of the Republic of Ireland, one of Europe’s biggest tech hubs, is a lively city with extraordinarily rich and diverse food, culture, history and art lovers - the number of museums and restaurants can certainly tickle most tastes.\\nThe conference will take place at Talbot Hotel Stillorgan, Dublin\\nAs an EU/EEA resident, you do not require a visa to travel to Ireland. You can enter the country freely under the Common Travel Area (CTA) agreements.\\nDocuments to Carry\\n    Even though a visa is not required, ensure you carry:\\n    - A valid passport or national ID card.\\n    - Proof of accommodation (e.g., hotel bookings or host details).\\n    - Your DjangoCon Europe ticket or event confirmation.\\n    - Travel insurance (optional but recommended).\\n    \\nDjangoCon Europe 2025 offers grants so that those who might otherwise not be able to attend won't hesitate to participate. Some expenses for the conference attendance (which could include travel, hotel, registration, etc) will be covered for opportunity grant recipients.\\nThe sponsors are Ambient, Caktus, Monit to name but a few.\\nMentorship Program\\n    Are you an experienced speaker eager to share your knowledge and guide aspiring speakers? Or are you planning to submit a proposal to DjangoCon Europe 2025 and looking for expert advice to craft a standout submission?\\n\\n    If you answered 'yes' to either question, this mentorship program is perfect for you!\\n\\n   \\n For Mentees This is How the Program Works\\n    Our aim is to pair each mentee with a dedicated mentor to foster one-on-one guidance. To simplify scheduling, we prioritize matching participants in the same timezone or country whenever possible.\"}, {'role': 'user', 'metadata': None, 'content': 'how can ig et help as a mentee', 'options': None}, {'role': 'assistant', 'metadata': None, 'content': \"As a mentee in the DjangoCon Europe 2025 Mentorship Program, you can benefit in several ways:\\n\\n1. **Expert Guidance**: You will be paired with an experienced mentor who can provide personalized advice and insights related to your interests, be it in speaking, proposal submissions, or general participation in the conference.\\n\\n2. **Feedback on Proposals**: If you're planning to submit a speaking proposal, your mentor can help you refine your idea, structure your presentation, and provide feedback to enhance its appeal.\\n\\n3. **Networking Opportunities**: Mentors often have extensive networks within the Django community. They can introduce you to other professionals, speakers, and attendees, helping you expand your connections.\\n\\n4. **Skill Development**: Depending on your goals, your mentor can guide you on improving your public speaking skills, content creation, or any specific technical topics related to Django.\\n\\n5. **Support and Encouragement**: Having a mentor provides emotional support, encouragement, and motivation as you navigate your journey in joining the conference and potentially speaking.\\n\\nTo get help as a mentee, you can express your interest in the mentorship program when you register for the conference or reach out to the organizers for more information on how to apply. Be sure to indicate your goals and what you would like to achieve through the mentorship.\", 'options': None}, {'role': 'user', 'metadata': None, 'content': 'what is dublin like', 'options': None}, {'role': 'assistant', 'metadata': None, 'content': \"Dublin, the capital of the Republic of Ireland, is a vibrant and lively city known for its rich cultural heritage, history, and artistic scene. Here are some highlights of what Dublin is like:\\n\\n1. **Cultural Hub**: Dublin has a thriving arts and culture scene, with numerous theaters, galleries, and music venues. It's home to famous literary figures such as James Joyce, Samuel Beckett, and W.B. Yeats, and you can visit literary landmarks related to these authors.\\n\\n2. **Historical Attractions**: The city boasts a range of historical sites, including Dublin Castle, the impressive Trinity College with the Book of Kells, and Kilmainham Gaol, all of which offer insights into Ireland's history.\\n\\n3. **Diverse Food Scene**: Dublin has a rich culinary landscape that features traditional Irish cuisine as well as a variety of international options. You can find cozy pubs serving hearty meals, chic restaurants, and vibrant food markets.\\n\\n4. **Friendly Atmosphere**: Dubliners are known for their hospitality and friendliness, making the city welcoming for visitors. Locals are usually happy to share tips, directions, and stories.\\n\\n5. **Lively Nightlife**: The nightlife in Dublin is buzzing, with plenty of pubs, bars, and live music venues. Enjoying traditional Irish music in a local pub is a must-do experience.\\n\\n6. **Green Spaces**: Dublin is also home to beautiful parks and gardens, such as St. Stephen’s Green and Phoenix Park – one of the largest urban parks in Europe, offering a peaceful escape from the city’s hustle and bustle.\\n\\n7. **Modern Amenities**: As one of Europe’s biggest tech hubs, Dublin has a modern feel with an array of shops, cafes, and co-working spaces, making it a popular destination for tech enthusiasts.\\n\\nOverall, Dublin combines a mix of history, culture, and modern life, making it an exciting and enjoyable city to explore.\", 'options': None}, {'role': 'user', 'content': 'its in may isnt it'}]\n"
     ]
    }
   ],
   "source": [
    "# We use Gradio for a chat interface\n",
    "# prompt: I am interested in green belts, probably coming Sunday and will have cash. Is this OK?\n",
    "\n",
    "gr.ChatInterface(fn=chat, type=\"messages\").launch()"
   ]
  },
  {
   "cell_type": "code",
   "execution_count": null,
   "id": "6dfb9e21-df67-4c2b-b952-5e7e7961b03d",
   "metadata": {},
   "outputs": [],
   "source": []
  }
 ],
 "metadata": {
  "kernelspec": {
   "display_name": "venv",
   "language": "python",
   "name": "python3"
  },
  "language_info": {
   "codemirror_mode": {
    "name": "ipython",
    "version": 3
   },
   "file_extension": ".py",
   "mimetype": "text/x-python",
   "name": "python",
   "nbconvert_exporter": "python",
   "pygments_lexer": "ipython3",
   "version": "3.12.9"
  }
 },
 "nbformat": 4,
 "nbformat_minor": 5
}
