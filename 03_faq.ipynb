{
 "cells": [
  {
   "cell_type": "markdown",
   "id": "f8e520df",
   "metadata": {},
   "source": [
    "<img src=\"./images/03-faq.png\" width=700px>\n"
   ]
  },
  {
   "cell_type": "markdown",
   "id": "b44f832a",
   "metadata": {},
   "source": [
    "In this example we will see an example of RAG - Retrieval Augmented Generation.\n",
    "\n",
    "We have 'retrieved' some data and stored in the FAQ variable. In this demo, this is hard coded but there are a multitude of ways of RETRIEVING data to AUGMENT the prompt and consequent GENERATION.\n",
    "\n",
    "OpenAi does not have any domain specifice knowledge. In lieu of a fine tuned model on our domain, we can AUGMENT the prompt with retrieved data.\n",
    "\n",
    "RAG is not just asking questions of documents using vector search - it is augmenting the LLM request with additonal data in lieu of fine tuning the model.\n",
    "\n",
    "We are going to give it a list of FAQs so that we can use a ChatBot to ask questions.\n"
   ]
  },
  {
   "cell_type": "code",
   "execution_count": 3,
   "id": "70e39cd8-ec79-4e3e-9c26-5659d42d0861",
   "metadata": {},
   "outputs": [],
   "source": [
    "import os\n",
    "from dotenv import load_dotenv\n",
    "from openai import OpenAI\n",
    "import gradio as gr"
   ]
  },
  {
   "cell_type": "code",
   "execution_count": 4,
   "id": "231605aa-fccb-447e-89cf-8b187444536a",
   "metadata": {},
   "outputs": [
    {
     "name": "stdout",
     "output_type": "stream",
     "text": [
      "OpenAI API Key exists and begins sk-proj-1WUVgv...\n"
     ]
    }
   ],
   "source": [
    "# Load environment variables in a file called .env\n",
    "# Print the key prefixes to help with any debugging\n",
    "\n",
    "load_dotenv()\n",
    "openai_api_key = os.getenv(\"OPENAI_API_KEY\")\n",
    "if openai_api_key:\n",
    "    print(f\"OpenAI API Key exists and begins {openai_api_key[:14]}...\")\n",
    "else:\n",
    "    print(\"OpenAI API Key not set\")"
   ]
  },
  {
   "cell_type": "code",
   "execution_count": 5,
   "id": "2fda2518",
   "metadata": {},
   "outputs": [],
   "source": [
    "LLM_CHOICE = \"OPENAI\"\n",
    "# LLM_CHOICE = \"GROQ\""
   ]
  },
  {
   "cell_type": "code",
   "execution_count": 6,
   "id": "0dde9898",
   "metadata": {},
   "outputs": [],
   "source": [
    "def get_llm_client(llm_choice):\n",
    "    if llm_choice == \"GROQ\":\n",
    "        client = OpenAI(\n",
    "            base_url=\"https://api.groq.com/openai/v1\",\n",
    "            api_key=os.environ.get(\"GROQ_API_KEY\"),\n",
    "        )\n",
    "        return client\n",
    "    elif llm_choice == \"OPENAI\":\n",
    "        load_dotenv()  # load environment variables from .env fil\n",
    "        client = OpenAI(api_key=os.environ.get(\"OPENAI_API_KEY\"))\n",
    "        return client\n",
    "    else:\n",
    "        raise ValueError(\"Invalid LLM choice. Please choose 'GROQ' or 'OPENAI'.\")"
   ]
  },
  {
   "cell_type": "code",
   "execution_count": 7,
   "id": "6541d58e-2297-4de1-b1f7-77da1b98b8bb",
   "metadata": {},
   "outputs": [],
   "source": [
    "# Initialize and select model to use\n",
    "# client = OpenAI()\n",
    "# MODEL = \"gpt-4o-mini\""
   ]
  },
  {
   "cell_type": "code",
   "execution_count": 8,
   "id": "1eacc8a4-4b48-4358-9e06-ce0020041bc1",
   "metadata": {},
   "outputs": [
    {
     "name": "stdout",
     "output_type": "stream",
     "text": [
      "LLM_CHOICE: OPENAI - MODEL: gpt-4o-mini\n"
     ]
    }
   ],
   "source": [
    "# A request to the LLM is stateless so we will always need to pass all the data that is needed each time.\n",
    "\n",
    "# `history` is just that - a record of what has gone on before so that the LLM can have context to answer the query.\n",
    "\n",
    "client = get_llm_client(LLM_CHOICE)\n",
    "if LLM_CHOICE == \"GROQ\":\n",
    "    MODEL = \"llama-3.3-70b-versatile\"\n",
    "else:\n",
    "    MODEL = \"gpt-4o-mini\"\n",
    "\n",
    "print(f\"LLM_CHOICE: {LLM_CHOICE} - MODEL: {MODEL}\")\n",
    "\n",
    "\n",
    "# We will use GRADIO as our UI.\n",
    "def chat(message, history):\n",
    "    # history is part of the gradio ChatInterface and it stores previous answers\n",
    "    messages = (\n",
    "        [{\"role\": \"system\", \"content\": system_message}]\n",
    "        + history\n",
    "        + [{\"role\": \"user\", \"content\": message}]\n",
    "    )\n",
    "    print(\"History is:\")\n",
    "    print(history)\n",
    "    print(\"And messages is:\")\n",
    "    print(messages)\n",
    "    # ====================\n",
    "    # AI bit\n",
    "    stream = client.chat.completions.create(model=MODEL, messages=messages, stream=True)\n",
    "\n",
    "    # Just UI implementation\n",
    "    response = \"\"\n",
    "    for stream_so_far in stream:\n",
    "        response += stream_so_far.choices[0].delta.content or \"\"\n",
    "        yield response"
   ]
  },
  {
   "cell_type": "code",
   "execution_count": 9,
   "id": "1f91b414-8bab-472d-b9c9-3fa51259bdfe",
   "metadata": {},
   "outputs": [],
   "source": [
    "# We set up the backround scenario in the system messaage.\n",
    "# In some frameworks this is called 'background' or 'character'.\n",
    "\n",
    "system_message = \"\"\"You are a helpful assistant for the Django Conference. \"\"\""
   ]
  },
  {
   "cell_type": "code",
   "execution_count": 10,
   "id": "11d57e30",
   "metadata": {},
   "outputs": [],
   "source": [
    "# FAQ is just data extracted from a source and inserted into the system message.\n",
    "# RAG - Retrieval Augmented Generation.\n",
    "# This does not need to be a vector search but additional RETREIVED information we pass to the LLM to AUGMENT the prompt prior to GENERATING the response.\n",
    "FAQ = [\n",
    "    \"DjangoCon 2025 is taking place in Dublin\",\n",
    "    \"The dates are 23rd-27th April 2025\",\n",
    "    \"The venue is DjangoCon Europe 2025 will be held in Dublin! The capital of the Republic of Ireland, one of Europe’s biggest tech hubs, is a lively city with extraordinarily rich and diverse food, culture, history and art lovers - the number of museums and restaurants can certainly tickle most tastes.\",\n",
    "    \"The conference will take place at Talbot Hotel Stillorgan, Dublin\",\n",
    "    \"As an EU/EEA resident, you do not require a visa to travel to Ireland. You can enter the country freely under the Common Travel Area (CTA) agreements.\",\n",
    "    \"\"\"\n",
    "    Documents to Carry\n",
    "    Even though a visa is not required, ensure you carry:\n",
    "    - A valid passport or national ID card.\n",
    "    - Proof of accommodation (e.g., hotel bookings or host details).\n",
    "    - Your DjangoCon Europe ticket or event confirmation.\n",
    "    - Travel insurance (optional but recommended).\n",
    "    \"\"\",\n",
    "    \"DjangoCon Europe 2025 offers grants so that those who might otherwise not be able to attend won't hesitate to participate. Some expenses for the conference attendance (which could include travel, hotel, registration, etc) will be covered for opportunity grant recipients.\",\n",
    "    \"The sponsors are Ambient, Caktus, Monit to name but a few.\",\n",
    "    \"\"\"\n",
    "    Mentorship Program\n",
    "    Are you an experienced speaker eager to share your knowledge and guide aspiring speakers? Or are you planning to submit a proposal to DjangoCon Europe 2025 and looking for expert advice to craft a standout submission?\n",
    "    If you answered 'yes' to either question, this mentorship program is perfect for you!\n",
    "    \"\"\",\n",
    "    \"\"\" \n",
    "    For Mentees This is How the Program Works\n",
    "    Our aim is to pair each mentee with a dedicated mentor to foster one-on-one guidance. To simplify scheduling, we prioritize matching participants in the same timezone or country whenever possible.\n",
    "    \"\"\",\n",
    "    \"\"\"\n",
    "    A live recording of a 'The Real Python Podcast' episode with audience participation.\n",
    "\n",
    "    The Real Python Podcast is a weekly podcast hosted by Christopher Bailey with interviews, coding tips, and conversations with guests from the Python community. Bi-weekly, the episodes are cohosted by Christopher Trudeau where together the Christophers cover recent content from the PyCoders newsletter and happenings in the Python world.\n",
    "\n",
    "    The DjangoCon session would be similar to PyCoders episodes where we cover interesting recent Python articles. For DjangoCon, content would be Django focused, with the list of articles determined closer to the conference date. Questions from the audience could be on the topics covered and/or in a AMA format.\"\"\",\n",
    "]\n",
    "\n",
    "# Create the base system message - 'character and instructions' along with retrieved data.\n",
    "system_message += \"\\n\" + \"\\n\".join(FAQ)"
   ]
  },
  {
   "cell_type": "markdown",
   "id": "9f4f1b89",
   "metadata": {},
   "source": []
  },
  {
   "cell_type": "code",
   "execution_count": null,
   "id": "413e9e4e-7836-43ac-a0c3-e1ab5ed6b136",
   "metadata": {},
   "outputs": [
    {
     "name": "stdout",
     "output_type": "stream",
     "text": [
      "* Running on local URL:  http://127.0.0.1:7860\n",
      "\n",
      "To create a public link, set `share=True` in `launch()`.\n"
     ]
    },
    {
     "data": {
      "text/html": [
       "<div><iframe src=\"http://127.0.0.1:7860/\" width=\"100%\" height=\"500\" allow=\"autoplay; camera; microphone; clipboard-read; clipboard-write;\" frameborder=\"0\" allowfullscreen></iframe></div>"
      ],
      "text/plain": [
       "<IPython.core.display.HTML object>"
      ]
     },
     "metadata": {},
     "output_type": "display_data"
    },
    {
     "data": {
      "text/plain": []
     },
     "execution_count": 11,
     "metadata": {},
     "output_type": "execute_result"
    },
    {
     "name": "stdout",
     "output_type": "stream",
     "text": [
      "History is:\n",
      "[]\n",
      "And messages is:\n",
      "[{'role': 'system', 'content': \"You are a helpful assistant for the Django Conference. \\nDjangoCon 2025 is taking place in Dublin\\nThe dates are 23rd-27th April 2025\\nThe venue is DjangoCon Europe 2025 will be held in Dublin! The capital of the Republic of Ireland, one of Europe’s biggest tech hubs, is a lively city with extraordinarily rich and diverse food, culture, history and art lovers - the number of museums and restaurants can certainly tickle most tastes.\\nThe conference will take place at Talbot Hotel Stillorgan, Dublin\\nAs an EU/EEA resident, you do not require a visa to travel to Ireland. You can enter the country freely under the Common Travel Area (CTA) agreements.\\n\\n    Documents to Carry\\n    Even though a visa is not required, ensure you carry:\\n    - A valid passport or national ID card.\\n    - Proof of accommodation (e.g., hotel bookings or host details).\\n    - Your DjangoCon Europe ticket or event confirmation.\\n    - Travel insurance (optional but recommended).\\n    \\nDjangoCon Europe 2025 offers grants so that those who might otherwise not be able to attend won't hesitate to participate. Some expenses for the conference attendance (which could include travel, hotel, registration, etc) will be covered for opportunity grant recipients.\\nThe sponsors are Ambient, Caktus, Monit to name but a few.\\n\\n    Mentorship Program\\n    Are you an experienced speaker eager to share your knowledge and guide aspiring speakers? Or are you planning to submit a proposal to DjangoCon Europe 2025 and looking for expert advice to craft a standout submission?\\n    If you answered 'yes' to either question, this mentorship program is perfect for you!\\n    \\n \\n    For Mentees This is How the Program Works\\n    Our aim is to pair each mentee with a dedicated mentor to foster one-on-one guidance. To simplify scheduling, we prioritize matching participants in the same timezone or country whenever possible.\\n    \\n\\n    A live recording of a 'The Real Python Podcast' episode with audience participation.\\n\\n    The Real Python Podcast is a weekly podcast hosted by Christopher Bailey with interviews, coding tips, and conversations with guests from the Python community. Bi-weekly, the episodes are cohosted by Christopher Trudeau where together the Christophers cover recent content from the PyCoders newsletter and happenings in the Python world.\\n\\n    The DjangoCon session would be similar to PyCoders episodes where we cover interesting recent Python articles. For DjangoCon, content would be Django focused, with the list of articles determined closer to the conference date. Questions from the audience could be on the topics covered and/or in a AMA format.\"}, {'role': 'user', 'content': 'Is there a podcast'}]\n",
      "History is:\n",
      "[{'role': 'user', 'metadata': None, 'content': 'Is there a podcast', 'options': None}, {'role': 'assistant', 'metadata': None, 'content': 'Yes, there will be a live recording of \"The Real Python Podcast\" episode at DjangoCon Europe 2025. This podcast is hosted by Christopher Bailey and focuses on interviews, coding tips, and conversations with guests from the Python community. During the live recording at the conference, audience participation will be encouraged, allowing attendees to engage with the topics being discussed, which will be Django-focused.', 'options': None}]\n",
      "And messages is:\n",
      "[{'role': 'system', 'content': \"You are a helpful assistant for the Django Conference. \\nDjangoCon 2025 is taking place in Dublin\\nThe dates are 23rd-27th April 2025\\nThe venue is DjangoCon Europe 2025 will be held in Dublin! The capital of the Republic of Ireland, one of Europe’s biggest tech hubs, is a lively city with extraordinarily rich and diverse food, culture, history and art lovers - the number of museums and restaurants can certainly tickle most tastes.\\nThe conference will take place at Talbot Hotel Stillorgan, Dublin\\nAs an EU/EEA resident, you do not require a visa to travel to Ireland. You can enter the country freely under the Common Travel Area (CTA) agreements.\\n\\n    Documents to Carry\\n    Even though a visa is not required, ensure you carry:\\n    - A valid passport or national ID card.\\n    - Proof of accommodation (e.g., hotel bookings or host details).\\n    - Your DjangoCon Europe ticket or event confirmation.\\n    - Travel insurance (optional but recommended).\\n    \\nDjangoCon Europe 2025 offers grants so that those who might otherwise not be able to attend won't hesitate to participate. Some expenses for the conference attendance (which could include travel, hotel, registration, etc) will be covered for opportunity grant recipients.\\nThe sponsors are Ambient, Caktus, Monit to name but a few.\\n\\n    Mentorship Program\\n    Are you an experienced speaker eager to share your knowledge and guide aspiring speakers? Or are you planning to submit a proposal to DjangoCon Europe 2025 and looking for expert advice to craft a standout submission?\\n    If you answered 'yes' to either question, this mentorship program is perfect for you!\\n    \\n \\n    For Mentees This is How the Program Works\\n    Our aim is to pair each mentee with a dedicated mentor to foster one-on-one guidance. To simplify scheduling, we prioritize matching participants in the same timezone or country whenever possible.\\n    \\n\\n    A live recording of a 'The Real Python Podcast' episode with audience participation.\\n\\n    The Real Python Podcast is a weekly podcast hosted by Christopher Bailey with interviews, coding tips, and conversations with guests from the Python community. Bi-weekly, the episodes are cohosted by Christopher Trudeau where together the Christophers cover recent content from the PyCoders newsletter and happenings in the Python world.\\n\\n    The DjangoCon session would be similar to PyCoders episodes where we cover interesting recent Python articles. For DjangoCon, content would be Django focused, with the list of articles determined closer to the conference date. Questions from the audience could be on the topics covered and/or in a AMA format.\"}, {'role': 'user', 'metadata': None, 'content': 'Is there a podcast', 'options': None}, {'role': 'assistant', 'metadata': None, 'content': 'Yes, there will be a live recording of \"The Real Python Podcast\" episode at DjangoCon Europe 2025. This podcast is hosted by Christopher Bailey and focuses on interviews, coding tips, and conversations with guests from the Python community. During the live recording at the conference, audience participation will be encouraged, allowing attendees to engage with the topics being discussed, which will be Django-focused.', 'options': None}, {'role': 'user', 'content': 'can you tell me more...'}]\n",
      "History is:\n",
      "[{'role': 'user', 'metadata': None, 'content': 'Is there a podcast', 'options': None}, {'role': 'assistant', 'metadata': None, 'content': 'Yes, there will be a live recording of \"The Real Python Podcast\" episode at DjangoCon Europe 2025. This podcast is hosted by Christopher Bailey and focuses on interviews, coding tips, and conversations with guests from the Python community. During the live recording at the conference, audience participation will be encouraged, allowing attendees to engage with the topics being discussed, which will be Django-focused.', 'options': None}, {'role': 'user', 'metadata': None, 'content': 'can you tell me more...', 'options': None}, {'role': 'assistant', 'metadata': None, 'content': 'Certainly! \"The Real Python Podcast\" is a weekly podcast that covers a variety of topics related to Python programming. It features interviews with industry experts, discussions on coding tips, and updates on the latest happenings in the Python community.\\n\\n### Key Highlights of the Podcast:\\n\\n1. **Hosts**: The podcast is primarily hosted by Christopher Bailey, with cohost Christopher Trudeau joining for bi-weekly episodes. Together, they bring insights, tips, and discussions relevant to Python developers of all levels.\\n\\n2. **Content**: The podcast explores a range of topics, including:\\n   - Interviews with notable figures and experts in the Python world.\\n   - Discussions on the latest Python tools, libraries, and trends.\\n   - A summary of interesting articles and resources from the Python community, particularly those highlighted in the PyCoders newsletter.\\n\\n3. **DjangoCon Europe 2025 Live Episode**:\\n   - At the DjangoCon Europe 2025 event, the podcast will include a special live recording.\\n   - The content will focus specifically on Django, highlighting recent articles and developments in the framework.\\n   - Audience participation will be a key feature, allowing attendees to ask questions and engage in discussions—similar to the AMA format (Ask Me Anything).\\n   - The specific articles and topics to be covered will be determined closer to the conference date, ensuring relevance and timeliness.\\n\\n4. **Engagement**: This format allows conference attendees to be an active part of the discussion, contributing their questions and thoughts, and enhances the community feel of the event.\\n\\nOverall, this live podcast recording at DjangoCon Europe 2025 offers a unique opportunity for participants to blend learning with interaction, making it an exciting addition to the conference experience. If you\\'re interested in diving deeper into Python or Django, this session will surely be valuable!', 'options': None}]\n",
      "And messages is:\n",
      "[{'role': 'system', 'content': \"You are a helpful assistant for the Django Conference. \\nDjangoCon 2025 is taking place in Dublin\\nThe dates are 23rd-27th April 2025\\nThe venue is DjangoCon Europe 2025 will be held in Dublin! The capital of the Republic of Ireland, one of Europe’s biggest tech hubs, is a lively city with extraordinarily rich and diverse food, culture, history and art lovers - the number of museums and restaurants can certainly tickle most tastes.\\nThe conference will take place at Talbot Hotel Stillorgan, Dublin\\nAs an EU/EEA resident, you do not require a visa to travel to Ireland. You can enter the country freely under the Common Travel Area (CTA) agreements.\\n\\n    Documents to Carry\\n    Even though a visa is not required, ensure you carry:\\n    - A valid passport or national ID card.\\n    - Proof of accommodation (e.g., hotel bookings or host details).\\n    - Your DjangoCon Europe ticket or event confirmation.\\n    - Travel insurance (optional but recommended).\\n    \\nDjangoCon Europe 2025 offers grants so that those who might otherwise not be able to attend won't hesitate to participate. Some expenses for the conference attendance (which could include travel, hotel, registration, etc) will be covered for opportunity grant recipients.\\nThe sponsors are Ambient, Caktus, Monit to name but a few.\\n\\n    Mentorship Program\\n    Are you an experienced speaker eager to share your knowledge and guide aspiring speakers? Or are you planning to submit a proposal to DjangoCon Europe 2025 and looking for expert advice to craft a standout submission?\\n    If you answered 'yes' to either question, this mentorship program is perfect for you!\\n    \\n \\n    For Mentees This is How the Program Works\\n    Our aim is to pair each mentee with a dedicated mentor to foster one-on-one guidance. To simplify scheduling, we prioritize matching participants in the same timezone or country whenever possible.\\n    \\n\\n    A live recording of a 'The Real Python Podcast' episode with audience participation.\\n\\n    The Real Python Podcast is a weekly podcast hosted by Christopher Bailey with interviews, coding tips, and conversations with guests from the Python community. Bi-weekly, the episodes are cohosted by Christopher Trudeau where together the Christophers cover recent content from the PyCoders newsletter and happenings in the Python world.\\n\\n    The DjangoCon session would be similar to PyCoders episodes where we cover interesting recent Python articles. For DjangoCon, content would be Django focused, with the list of articles determined closer to the conference date. Questions from the audience could be on the topics covered and/or in a AMA format.\"}, {'role': 'user', 'metadata': None, 'content': 'Is there a podcast', 'options': None}, {'role': 'assistant', 'metadata': None, 'content': 'Yes, there will be a live recording of \"The Real Python Podcast\" episode at DjangoCon Europe 2025. This podcast is hosted by Christopher Bailey and focuses on interviews, coding tips, and conversations with guests from the Python community. During the live recording at the conference, audience participation will be encouraged, allowing attendees to engage with the topics being discussed, which will be Django-focused.', 'options': None}, {'role': 'user', 'metadata': None, 'content': 'can you tell me more...', 'options': None}, {'role': 'assistant', 'metadata': None, 'content': 'Certainly! \"The Real Python Podcast\" is a weekly podcast that covers a variety of topics related to Python programming. It features interviews with industry experts, discussions on coding tips, and updates on the latest happenings in the Python community.\\n\\n### Key Highlights of the Podcast:\\n\\n1. **Hosts**: The podcast is primarily hosted by Christopher Bailey, with cohost Christopher Trudeau joining for bi-weekly episodes. Together, they bring insights, tips, and discussions relevant to Python developers of all levels.\\n\\n2. **Content**: The podcast explores a range of topics, including:\\n   - Interviews with notable figures and experts in the Python world.\\n   - Discussions on the latest Python tools, libraries, and trends.\\n   - A summary of interesting articles and resources from the Python community, particularly those highlighted in the PyCoders newsletter.\\n\\n3. **DjangoCon Europe 2025 Live Episode**:\\n   - At the DjangoCon Europe 2025 event, the podcast will include a special live recording.\\n   - The content will focus specifically on Django, highlighting recent articles and developments in the framework.\\n   - Audience participation will be a key feature, allowing attendees to ask questions and engage in discussions—similar to the AMA format (Ask Me Anything).\\n   - The specific articles and topics to be covered will be determined closer to the conference date, ensuring relevance and timeliness.\\n\\n4. **Engagement**: This format allows conference attendees to be an active part of the discussion, contributing their questions and thoughts, and enhances the community feel of the event.\\n\\nOverall, this live podcast recording at DjangoCon Europe 2025 offers a unique opportunity for participants to blend learning with interaction, making it an exciting addition to the conference experience. If you\\'re interested in diving deeper into Python or Django, this session will surely be valuable!', 'options': None}, {'role': 'user', 'content': 'when is it'}]\n",
      "History is:\n",
      "[{'role': 'user', 'metadata': None, 'content': 'Is there a podcast', 'options': None}, {'role': 'assistant', 'metadata': None, 'content': 'Yes, there will be a live recording of \"The Real Python Podcast\" episode at DjangoCon Europe 2025. This podcast is hosted by Christopher Bailey and focuses on interviews, coding tips, and conversations with guests from the Python community. During the live recording at the conference, audience participation will be encouraged, allowing attendees to engage with the topics being discussed, which will be Django-focused.', 'options': None}, {'role': 'user', 'metadata': None, 'content': 'can you tell me more...', 'options': None}, {'role': 'assistant', 'metadata': None, 'content': 'Certainly! \"The Real Python Podcast\" is a weekly podcast that covers a variety of topics related to Python programming. It features interviews with industry experts, discussions on coding tips, and updates on the latest happenings in the Python community.\\n\\n### Key Highlights of the Podcast:\\n\\n1. **Hosts**: The podcast is primarily hosted by Christopher Bailey, with cohost Christopher Trudeau joining for bi-weekly episodes. Together, they bring insights, tips, and discussions relevant to Python developers of all levels.\\n\\n2. **Content**: The podcast explores a range of topics, including:\\n   - Interviews with notable figures and experts in the Python world.\\n   - Discussions on the latest Python tools, libraries, and trends.\\n   - A summary of interesting articles and resources from the Python community, particularly those highlighted in the PyCoders newsletter.\\n\\n3. **DjangoCon Europe 2025 Live Episode**:\\n   - At the DjangoCon Europe 2025 event, the podcast will include a special live recording.\\n   - The content will focus specifically on Django, highlighting recent articles and developments in the framework.\\n   - Audience participation will be a key feature, allowing attendees to ask questions and engage in discussions—similar to the AMA format (Ask Me Anything).\\n   - The specific articles and topics to be covered will be determined closer to the conference date, ensuring relevance and timeliness.\\n\\n4. **Engagement**: This format allows conference attendees to be an active part of the discussion, contributing their questions and thoughts, and enhances the community feel of the event.\\n\\nOverall, this live podcast recording at DjangoCon Europe 2025 offers a unique opportunity for participants to blend learning with interaction, making it an exciting addition to the conference experience. If you\\'re interested in diving deeper into Python or Django, this session will surely be valuable!', 'options': None}, {'role': 'user', 'metadata': None, 'content': 'when is it', 'options': None}, {'role': 'assistant', 'metadata': None, 'content': 'The live recording of \"The Real Python Podcast\" will take place during DjangoCon Europe 2025, which is scheduled for April 23rd to April 27th, 2025. The specific date and time for the podcast recording will be confirmed closer to the conference date. Make sure to check the conference schedule for updates!', 'options': None}]\n",
      "And messages is:\n",
      "[{'role': 'system', 'content': \"You are a helpful assistant for the Django Conference. \\nDjangoCon 2025 is taking place in Dublin\\nThe dates are 23rd-27th April 2025\\nThe venue is DjangoCon Europe 2025 will be held in Dublin! The capital of the Republic of Ireland, one of Europe’s biggest tech hubs, is a lively city with extraordinarily rich and diverse food, culture, history and art lovers - the number of museums and restaurants can certainly tickle most tastes.\\nThe conference will take place at Talbot Hotel Stillorgan, Dublin\\nAs an EU/EEA resident, you do not require a visa to travel to Ireland. You can enter the country freely under the Common Travel Area (CTA) agreements.\\n\\n    Documents to Carry\\n    Even though a visa is not required, ensure you carry:\\n    - A valid passport or national ID card.\\n    - Proof of accommodation (e.g., hotel bookings or host details).\\n    - Your DjangoCon Europe ticket or event confirmation.\\n    - Travel insurance (optional but recommended).\\n    \\nDjangoCon Europe 2025 offers grants so that those who might otherwise not be able to attend won't hesitate to participate. Some expenses for the conference attendance (which could include travel, hotel, registration, etc) will be covered for opportunity grant recipients.\\nThe sponsors are Ambient, Caktus, Monit to name but a few.\\n\\n    Mentorship Program\\n    Are you an experienced speaker eager to share your knowledge and guide aspiring speakers? Or are you planning to submit a proposal to DjangoCon Europe 2025 and looking for expert advice to craft a standout submission?\\n    If you answered 'yes' to either question, this mentorship program is perfect for you!\\n    \\n \\n    For Mentees This is How the Program Works\\n    Our aim is to pair each mentee with a dedicated mentor to foster one-on-one guidance. To simplify scheduling, we prioritize matching participants in the same timezone or country whenever possible.\\n    \\n\\n    A live recording of a 'The Real Python Podcast' episode with audience participation.\\n\\n    The Real Python Podcast is a weekly podcast hosted by Christopher Bailey with interviews, coding tips, and conversations with guests from the Python community. Bi-weekly, the episodes are cohosted by Christopher Trudeau where together the Christophers cover recent content from the PyCoders newsletter and happenings in the Python world.\\n\\n    The DjangoCon session would be similar to PyCoders episodes where we cover interesting recent Python articles. For DjangoCon, content would be Django focused, with the list of articles determined closer to the conference date. Questions from the audience could be on the topics covered and/or in a AMA format.\"}, {'role': 'user', 'metadata': None, 'content': 'Is there a podcast', 'options': None}, {'role': 'assistant', 'metadata': None, 'content': 'Yes, there will be a live recording of \"The Real Python Podcast\" episode at DjangoCon Europe 2025. This podcast is hosted by Christopher Bailey and focuses on interviews, coding tips, and conversations with guests from the Python community. During the live recording at the conference, audience participation will be encouraged, allowing attendees to engage with the topics being discussed, which will be Django-focused.', 'options': None}, {'role': 'user', 'metadata': None, 'content': 'can you tell me more...', 'options': None}, {'role': 'assistant', 'metadata': None, 'content': 'Certainly! \"The Real Python Podcast\" is a weekly podcast that covers a variety of topics related to Python programming. It features interviews with industry experts, discussions on coding tips, and updates on the latest happenings in the Python community.\\n\\n### Key Highlights of the Podcast:\\n\\n1. **Hosts**: The podcast is primarily hosted by Christopher Bailey, with cohost Christopher Trudeau joining for bi-weekly episodes. Together, they bring insights, tips, and discussions relevant to Python developers of all levels.\\n\\n2. **Content**: The podcast explores a range of topics, including:\\n   - Interviews with notable figures and experts in the Python world.\\n   - Discussions on the latest Python tools, libraries, and trends.\\n   - A summary of interesting articles and resources from the Python community, particularly those highlighted in the PyCoders newsletter.\\n\\n3. **DjangoCon Europe 2025 Live Episode**:\\n   - At the DjangoCon Europe 2025 event, the podcast will include a special live recording.\\n   - The content will focus specifically on Django, highlighting recent articles and developments in the framework.\\n   - Audience participation will be a key feature, allowing attendees to ask questions and engage in discussions—similar to the AMA format (Ask Me Anything).\\n   - The specific articles and topics to be covered will be determined closer to the conference date, ensuring relevance and timeliness.\\n\\n4. **Engagement**: This format allows conference attendees to be an active part of the discussion, contributing their questions and thoughts, and enhances the community feel of the event.\\n\\nOverall, this live podcast recording at DjangoCon Europe 2025 offers a unique opportunity for participants to blend learning with interaction, making it an exciting addition to the conference experience. If you\\'re interested in diving deeper into Python or Django, this session will surely be valuable!', 'options': None}, {'role': 'user', 'metadata': None, 'content': 'when is it', 'options': None}, {'role': 'assistant', 'metadata': None, 'content': 'The live recording of \"The Real Python Podcast\" will take place during DjangoCon Europe 2025, which is scheduled for April 23rd to April 27th, 2025. The specific date and time for the podcast recording will be confirmed closer to the conference date. Make sure to check the conference schedule for updates!', 'options': None}, {'role': 'user', 'content': 'I thought it was in May'}]\n",
      "History is:\n",
      "[{'role': 'user', 'metadata': None, 'content': 'Is there a podcast', 'options': None}, {'role': 'assistant', 'metadata': None, 'content': 'Yes, there will be a live recording of \"The Real Python Podcast\" episode at DjangoCon Europe 2025. This podcast is hosted by Christopher Bailey and focuses on interviews, coding tips, and conversations with guests from the Python community. During the live recording at the conference, audience participation will be encouraged, allowing attendees to engage with the topics being discussed, which will be Django-focused.', 'options': None}, {'role': 'user', 'metadata': None, 'content': 'can you tell me more...', 'options': None}, {'role': 'assistant', 'metadata': None, 'content': 'Certainly! \"The Real Python Podcast\" is a weekly podcast that covers a variety of topics related to Python programming. It features interviews with industry experts, discussions on coding tips, and updates on the latest happenings in the Python community.\\n\\n### Key Highlights of the Podcast:\\n\\n1. **Hosts**: The podcast is primarily hosted by Christopher Bailey, with cohost Christopher Trudeau joining for bi-weekly episodes. Together, they bring insights, tips, and discussions relevant to Python developers of all levels.\\n\\n2. **Content**: The podcast explores a range of topics, including:\\n   - Interviews with notable figures and experts in the Python world.\\n   - Discussions on the latest Python tools, libraries, and trends.\\n   - A summary of interesting articles and resources from the Python community, particularly those highlighted in the PyCoders newsletter.\\n\\n3. **DjangoCon Europe 2025 Live Episode**:\\n   - At the DjangoCon Europe 2025 event, the podcast will include a special live recording.\\n   - The content will focus specifically on Django, highlighting recent articles and developments in the framework.\\n   - Audience participation will be a key feature, allowing attendees to ask questions and engage in discussions—similar to the AMA format (Ask Me Anything).\\n   - The specific articles and topics to be covered will be determined closer to the conference date, ensuring relevance and timeliness.\\n\\n4. **Engagement**: This format allows conference attendees to be an active part of the discussion, contributing their questions and thoughts, and enhances the community feel of the event.\\n\\nOverall, this live podcast recording at DjangoCon Europe 2025 offers a unique opportunity for participants to blend learning with interaction, making it an exciting addition to the conference experience. If you\\'re interested in diving deeper into Python or Django, this session will surely be valuable!', 'options': None}, {'role': 'user', 'metadata': None, 'content': 'when is it', 'options': None}, {'role': 'assistant', 'metadata': None, 'content': 'The live recording of \"The Real Python Podcast\" will take place during DjangoCon Europe 2025, which is scheduled for April 23rd to April 27th, 2025. The specific date and time for the podcast recording will be confirmed closer to the conference date. Make sure to check the conference schedule for updates!', 'options': None}, {'role': 'user', 'metadata': None, 'content': 'I thought it was in May', 'options': None}, {'role': 'assistant', 'metadata': None, 'content': 'DjangoCon Europe 2025 is actually taking place from April 23rd to April 27th, 2025, not in May. If you have any other questions or need further clarification regarding the event, feel free to ask!', 'options': None}]\n",
      "And messages is:\n",
      "[{'role': 'system', 'content': \"You are a helpful assistant for the Django Conference. \\nDjangoCon 2025 is taking place in Dublin\\nThe dates are 23rd-27th April 2025\\nThe venue is DjangoCon Europe 2025 will be held in Dublin! The capital of the Republic of Ireland, one of Europe’s biggest tech hubs, is a lively city with extraordinarily rich and diverse food, culture, history and art lovers - the number of museums and restaurants can certainly tickle most tastes.\\nThe conference will take place at Talbot Hotel Stillorgan, Dublin\\nAs an EU/EEA resident, you do not require a visa to travel to Ireland. You can enter the country freely under the Common Travel Area (CTA) agreements.\\n\\n    Documents to Carry\\n    Even though a visa is not required, ensure you carry:\\n    - A valid passport or national ID card.\\n    - Proof of accommodation (e.g., hotel bookings or host details).\\n    - Your DjangoCon Europe ticket or event confirmation.\\n    - Travel insurance (optional but recommended).\\n    \\nDjangoCon Europe 2025 offers grants so that those who might otherwise not be able to attend won't hesitate to participate. Some expenses for the conference attendance (which could include travel, hotel, registration, etc) will be covered for opportunity grant recipients.\\nThe sponsors are Ambient, Caktus, Monit to name but a few.\\n\\n    Mentorship Program\\n    Are you an experienced speaker eager to share your knowledge and guide aspiring speakers? Or are you planning to submit a proposal to DjangoCon Europe 2025 and looking for expert advice to craft a standout submission?\\n    If you answered 'yes' to either question, this mentorship program is perfect for you!\\n    \\n \\n    For Mentees This is How the Program Works\\n    Our aim is to pair each mentee with a dedicated mentor to foster one-on-one guidance. To simplify scheduling, we prioritize matching participants in the same timezone or country whenever possible.\\n    \\n\\n    A live recording of a 'The Real Python Podcast' episode with audience participation.\\n\\n    The Real Python Podcast is a weekly podcast hosted by Christopher Bailey with interviews, coding tips, and conversations with guests from the Python community. Bi-weekly, the episodes are cohosted by Christopher Trudeau where together the Christophers cover recent content from the PyCoders newsletter and happenings in the Python world.\\n\\n    The DjangoCon session would be similar to PyCoders episodes where we cover interesting recent Python articles. For DjangoCon, content would be Django focused, with the list of articles determined closer to the conference date. Questions from the audience could be on the topics covered and/or in a AMA format.\"}, {'role': 'user', 'metadata': None, 'content': 'Is there a podcast', 'options': None}, {'role': 'assistant', 'metadata': None, 'content': 'Yes, there will be a live recording of \"The Real Python Podcast\" episode at DjangoCon Europe 2025. This podcast is hosted by Christopher Bailey and focuses on interviews, coding tips, and conversations with guests from the Python community. During the live recording at the conference, audience participation will be encouraged, allowing attendees to engage with the topics being discussed, which will be Django-focused.', 'options': None}, {'role': 'user', 'metadata': None, 'content': 'can you tell me more...', 'options': None}, {'role': 'assistant', 'metadata': None, 'content': 'Certainly! \"The Real Python Podcast\" is a weekly podcast that covers a variety of topics related to Python programming. It features interviews with industry experts, discussions on coding tips, and updates on the latest happenings in the Python community.\\n\\n### Key Highlights of the Podcast:\\n\\n1. **Hosts**: The podcast is primarily hosted by Christopher Bailey, with cohost Christopher Trudeau joining for bi-weekly episodes. Together, they bring insights, tips, and discussions relevant to Python developers of all levels.\\n\\n2. **Content**: The podcast explores a range of topics, including:\\n   - Interviews with notable figures and experts in the Python world.\\n   - Discussions on the latest Python tools, libraries, and trends.\\n   - A summary of interesting articles and resources from the Python community, particularly those highlighted in the PyCoders newsletter.\\n\\n3. **DjangoCon Europe 2025 Live Episode**:\\n   - At the DjangoCon Europe 2025 event, the podcast will include a special live recording.\\n   - The content will focus specifically on Django, highlighting recent articles and developments in the framework.\\n   - Audience participation will be a key feature, allowing attendees to ask questions and engage in discussions—similar to the AMA format (Ask Me Anything).\\n   - The specific articles and topics to be covered will be determined closer to the conference date, ensuring relevance and timeliness.\\n\\n4. **Engagement**: This format allows conference attendees to be an active part of the discussion, contributing their questions and thoughts, and enhances the community feel of the event.\\n\\nOverall, this live podcast recording at DjangoCon Europe 2025 offers a unique opportunity for participants to blend learning with interaction, making it an exciting addition to the conference experience. If you\\'re interested in diving deeper into Python or Django, this session will surely be valuable!', 'options': None}, {'role': 'user', 'metadata': None, 'content': 'when is it', 'options': None}, {'role': 'assistant', 'metadata': None, 'content': 'The live recording of \"The Real Python Podcast\" will take place during DjangoCon Europe 2025, which is scheduled for April 23rd to April 27th, 2025. The specific date and time for the podcast recording will be confirmed closer to the conference date. Make sure to check the conference schedule for updates!', 'options': None}, {'role': 'user', 'metadata': None, 'content': 'I thought it was in May', 'options': None}, {'role': 'assistant', 'metadata': None, 'content': 'DjangoCon Europe 2025 is actually taking place from April 23rd to April 27th, 2025, not in May. If you have any other questions or need further clarification regarding the event, feel free to ask!', 'options': None}, {'role': 'user', 'content': 'do i need a visa'}]\n",
      "History is:\n",
      "[{'role': 'user', 'metadata': None, 'content': 'Is there a podcast', 'options': None}, {'role': 'assistant', 'metadata': None, 'content': 'Yes, there will be a live recording of \"The Real Python Podcast\" episode at DjangoCon Europe 2025. This podcast is hosted by Christopher Bailey and focuses on interviews, coding tips, and conversations with guests from the Python community. During the live recording at the conference, audience participation will be encouraged, allowing attendees to engage with the topics being discussed, which will be Django-focused.', 'options': None}, {'role': 'user', 'metadata': None, 'content': 'can you tell me more...', 'options': None}, {'role': 'assistant', 'metadata': None, 'content': 'Certainly! \"The Real Python Podcast\" is a weekly podcast that covers a variety of topics related to Python programming. It features interviews with industry experts, discussions on coding tips, and updates on the latest happenings in the Python community.\\n\\n### Key Highlights of the Podcast:\\n\\n1. **Hosts**: The podcast is primarily hosted by Christopher Bailey, with cohost Christopher Trudeau joining for bi-weekly episodes. Together, they bring insights, tips, and discussions relevant to Python developers of all levels.\\n\\n2. **Content**: The podcast explores a range of topics, including:\\n   - Interviews with notable figures and experts in the Python world.\\n   - Discussions on the latest Python tools, libraries, and trends.\\n   - A summary of interesting articles and resources from the Python community, particularly those highlighted in the PyCoders newsletter.\\n\\n3. **DjangoCon Europe 2025 Live Episode**:\\n   - At the DjangoCon Europe 2025 event, the podcast will include a special live recording.\\n   - The content will focus specifically on Django, highlighting recent articles and developments in the framework.\\n   - Audience participation will be a key feature, allowing attendees to ask questions and engage in discussions—similar to the AMA format (Ask Me Anything).\\n   - The specific articles and topics to be covered will be determined closer to the conference date, ensuring relevance and timeliness.\\n\\n4. **Engagement**: This format allows conference attendees to be an active part of the discussion, contributing their questions and thoughts, and enhances the community feel of the event.\\n\\nOverall, this live podcast recording at DjangoCon Europe 2025 offers a unique opportunity for participants to blend learning with interaction, making it an exciting addition to the conference experience. If you\\'re interested in diving deeper into Python or Django, this session will surely be valuable!', 'options': None}, {'role': 'user', 'metadata': None, 'content': 'when is it', 'options': None}, {'role': 'assistant', 'metadata': None, 'content': 'The live recording of \"The Real Python Podcast\" will take place during DjangoCon Europe 2025, which is scheduled for April 23rd to April 27th, 2025. The specific date and time for the podcast recording will be confirmed closer to the conference date. Make sure to check the conference schedule for updates!', 'options': None}, {'role': 'user', 'metadata': None, 'content': 'I thought it was in May', 'options': None}, {'role': 'assistant', 'metadata': None, 'content': 'DjangoCon Europe 2025 is actually taking place from April 23rd to April 27th, 2025, not in May. If you have any other questions or need further clarification regarding the event, feel free to ask!', 'options': None}, {'role': 'user', 'metadata': None, 'content': 'do i need a visa', 'options': None}, {'role': 'assistant', 'metadata': None, 'content': 'As an EU/EEA resident, you do not require a visa to travel to Ireland. You can enter the country freely under the Common Travel Area (CTA) agreements. However, it’s important to carry the following documents when traveling:\\n\\n- A valid passport or national ID card.\\n- Proof of accommodation (e.g., hotel bookings or host details).\\n- Your DjangoCon Europe ticket or event confirmation.\\n- Travel insurance (optional but recommended).\\n\\nIf you are not an EU/EEA resident, you may need to check the visa requirements specific to your nationality.', 'options': None}]\n",
      "And messages is:\n",
      "[{'role': 'system', 'content': \"You are a helpful assistant for the Django Conference. \\nDjangoCon 2025 is taking place in Dublin\\nThe dates are 23rd-27th April 2025\\nThe venue is DjangoCon Europe 2025 will be held in Dublin! The capital of the Republic of Ireland, one of Europe’s biggest tech hubs, is a lively city with extraordinarily rich and diverse food, culture, history and art lovers - the number of museums and restaurants can certainly tickle most tastes.\\nThe conference will take place at Talbot Hotel Stillorgan, Dublin\\nAs an EU/EEA resident, you do not require a visa to travel to Ireland. You can enter the country freely under the Common Travel Area (CTA) agreements.\\n\\n    Documents to Carry\\n    Even though a visa is not required, ensure you carry:\\n    - A valid passport or national ID card.\\n    - Proof of accommodation (e.g., hotel bookings or host details).\\n    - Your DjangoCon Europe ticket or event confirmation.\\n    - Travel insurance (optional but recommended).\\n    \\nDjangoCon Europe 2025 offers grants so that those who might otherwise not be able to attend won't hesitate to participate. Some expenses for the conference attendance (which could include travel, hotel, registration, etc) will be covered for opportunity grant recipients.\\nThe sponsors are Ambient, Caktus, Monit to name but a few.\\n\\n    Mentorship Program\\n    Are you an experienced speaker eager to share your knowledge and guide aspiring speakers? Or are you planning to submit a proposal to DjangoCon Europe 2025 and looking for expert advice to craft a standout submission?\\n    If you answered 'yes' to either question, this mentorship program is perfect for you!\\n    \\n \\n    For Mentees This is How the Program Works\\n    Our aim is to pair each mentee with a dedicated mentor to foster one-on-one guidance. To simplify scheduling, we prioritize matching participants in the same timezone or country whenever possible.\\n    \\n\\n    A live recording of a 'The Real Python Podcast' episode with audience participation.\\n\\n    The Real Python Podcast is a weekly podcast hosted by Christopher Bailey with interviews, coding tips, and conversations with guests from the Python community. Bi-weekly, the episodes are cohosted by Christopher Trudeau where together the Christophers cover recent content from the PyCoders newsletter and happenings in the Python world.\\n\\n    The DjangoCon session would be similar to PyCoders episodes where we cover interesting recent Python articles. For DjangoCon, content would be Django focused, with the list of articles determined closer to the conference date. Questions from the audience could be on the topics covered and/or in a AMA format.\"}, {'role': 'user', 'metadata': None, 'content': 'Is there a podcast', 'options': None}, {'role': 'assistant', 'metadata': None, 'content': 'Yes, there will be a live recording of \"The Real Python Podcast\" episode at DjangoCon Europe 2025. This podcast is hosted by Christopher Bailey and focuses on interviews, coding tips, and conversations with guests from the Python community. During the live recording at the conference, audience participation will be encouraged, allowing attendees to engage with the topics being discussed, which will be Django-focused.', 'options': None}, {'role': 'user', 'metadata': None, 'content': 'can you tell me more...', 'options': None}, {'role': 'assistant', 'metadata': None, 'content': 'Certainly! \"The Real Python Podcast\" is a weekly podcast that covers a variety of topics related to Python programming. It features interviews with industry experts, discussions on coding tips, and updates on the latest happenings in the Python community.\\n\\n### Key Highlights of the Podcast:\\n\\n1. **Hosts**: The podcast is primarily hosted by Christopher Bailey, with cohost Christopher Trudeau joining for bi-weekly episodes. Together, they bring insights, tips, and discussions relevant to Python developers of all levels.\\n\\n2. **Content**: The podcast explores a range of topics, including:\\n   - Interviews with notable figures and experts in the Python world.\\n   - Discussions on the latest Python tools, libraries, and trends.\\n   - A summary of interesting articles and resources from the Python community, particularly those highlighted in the PyCoders newsletter.\\n\\n3. **DjangoCon Europe 2025 Live Episode**:\\n   - At the DjangoCon Europe 2025 event, the podcast will include a special live recording.\\n   - The content will focus specifically on Django, highlighting recent articles and developments in the framework.\\n   - Audience participation will be a key feature, allowing attendees to ask questions and engage in discussions—similar to the AMA format (Ask Me Anything).\\n   - The specific articles and topics to be covered will be determined closer to the conference date, ensuring relevance and timeliness.\\n\\n4. **Engagement**: This format allows conference attendees to be an active part of the discussion, contributing their questions and thoughts, and enhances the community feel of the event.\\n\\nOverall, this live podcast recording at DjangoCon Europe 2025 offers a unique opportunity for participants to blend learning with interaction, making it an exciting addition to the conference experience. If you\\'re interested in diving deeper into Python or Django, this session will surely be valuable!', 'options': None}, {'role': 'user', 'metadata': None, 'content': 'when is it', 'options': None}, {'role': 'assistant', 'metadata': None, 'content': 'The live recording of \"The Real Python Podcast\" will take place during DjangoCon Europe 2025, which is scheduled for April 23rd to April 27th, 2025. The specific date and time for the podcast recording will be confirmed closer to the conference date. Make sure to check the conference schedule for updates!', 'options': None}, {'role': 'user', 'metadata': None, 'content': 'I thought it was in May', 'options': None}, {'role': 'assistant', 'metadata': None, 'content': 'DjangoCon Europe 2025 is actually taking place from April 23rd to April 27th, 2025, not in May. If you have any other questions or need further clarification regarding the event, feel free to ask!', 'options': None}, {'role': 'user', 'metadata': None, 'content': 'do i need a visa', 'options': None}, {'role': 'assistant', 'metadata': None, 'content': 'As an EU/EEA resident, you do not require a visa to travel to Ireland. You can enter the country freely under the Common Travel Area (CTA) agreements. However, it’s important to carry the following documents when traveling:\\n\\n- A valid passport or national ID card.\\n- Proof of accommodation (e.g., hotel bookings or host details).\\n- Your DjangoCon Europe ticket or event confirmation.\\n- Travel insurance (optional but recommended).\\n\\nIf you are not an EU/EEA resident, you may need to check the visa requirements specific to your nationality.', 'options': None}, {'role': 'user', 'content': 'what dates?'}]\n"
     ]
    }
   ],
   "source": [
    "# We use Gradio for a chat interface\n",
    "# prompt: I am interested in green belts, probably coming Sunday and will have cash. Is this OK?\n",
    "\n",
    "gr.ChatInterface(fn=chat, type=\"messages\").launch()"
   ]
  },
  {
   "cell_type": "code",
   "execution_count": null,
   "id": "6dfb9e21-df67-4c2b-b952-5e7e7961b03d",
   "metadata": {},
   "outputs": [],
   "source": []
  }
 ],
 "metadata": {
  "kernelspec": {
   "display_name": "venv",
   "language": "python",
   "name": "python3"
  },
  "language_info": {
   "codemirror_mode": {
    "name": "ipython",
    "version": 3
   },
   "file_extension": ".py",
   "mimetype": "text/x-python",
   "name": "python",
   "nbconvert_exporter": "python",
   "pygments_lexer": "ipython3",
   "version": "3.12.9"
  }
 },
 "nbformat": 4,
 "nbformat_minor": 5
}
