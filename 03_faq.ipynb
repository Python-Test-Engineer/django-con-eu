{
 "cells": [
  {
   "cell_type": "markdown",
   "id": "f8e520df",
   "metadata": {},
   "source": [
    "<img src=\"./images/03-faq.png\" width=700px>\n"
   ]
  },
  {
   "cell_type": "markdown",
   "id": "b44f832a",
   "metadata": {},
   "source": [
    "In this example we will see an example of RAG - Retrieval Augmented Generation.\n",
    "\n",
    "We have 'retrieved' some data and stored in the FAQ variable. In this demo, this is hard coded but there are a multitude of ways of RETRIEVING data to AUGMENT the prompt and consequent GENERATION.\n",
    "\n",
    "OpenAi does not have any domain specifice knowledge. In lieu of a fine tuned model on our domain, we can AUGMENT the prompt with retrieved data.\n",
    "\n",
    "RAG is not just asking questions of documents using vector search - it is augmenting the LLM request with additonal data in lieu of fine tuning the model.\n",
    "\n",
    "We are going to give it a list of FAQs so that we can use a ChatBot to ask questions.\n"
   ]
  },
  {
   "cell_type": "code",
   "execution_count": 1,
   "id": "70e39cd8-ec79-4e3e-9c26-5659d42d0861",
   "metadata": {},
   "outputs": [
    {
     "name": "stderr",
     "output_type": "stream",
     "text": [
      "c:\\Users\\mrcra\\Desktop\\django-con-eu\\venv\\Lib\\site-packages\\tqdm\\auto.py:21: TqdmWarning: IProgress not found. Please update jupyter and ipywidgets. See https://ipywidgets.readthedocs.io/en/stable/user_install.html\n",
      "  from .autonotebook import tqdm as notebook_tqdm\n"
     ]
    }
   ],
   "source": [
    "import os\n",
    "from dotenv import load_dotenv\n",
    "from openai import OpenAI\n",
    "import gradio as gr"
   ]
  },
  {
   "cell_type": "code",
   "execution_count": 2,
   "id": "3279d690",
   "metadata": {},
   "outputs": [],
   "source": [
    "def get_llm_client(llm_choice):\n",
    "    if llm_choice == \"GROQ\":\n",
    "        client = OpenAI(\n",
    "            base_url=\"https://api.groq.com/openai/v1\",\n",
    "            api_key=os.environ.get(\"GROQ_API_KEY\"),\n",
    "        )\n",
    "        return client\n",
    "    elif llm_choice == \"OPENAI\":\n",
    "        load_dotenv()  # load environment variables from .env fil\n",
    "        client = OpenAI(api_key=os.environ.get(\"OPENAI_API_KEY\"))\n",
    "        return client\n",
    "    else:\n",
    "        raise ValueError(\"Invalid LLM choice. Please choose 'GROQ' or 'OPENAI'.\")"
   ]
  },
  {
   "cell_type": "code",
   "execution_count": 3,
   "id": "231605aa-fccb-447e-89cf-8b187444536a",
   "metadata": {},
   "outputs": [
    {
     "name": "stdout",
     "output_type": "stream",
     "text": [
      "OPENAI_API_KEY not set\n",
      "GROQ_API_KEY exists and begins gsk_11hFN1EMfj...\n",
      "LLM_CHOICE: GROQ - MODEL: llama-3.3-70b-versatile\n"
     ]
    }
   ],
   "source": [
    "# Load environment variables in a file called .env\n",
    "# Print the key prefixes to help with any debugging\n",
    "load_dotenv()\n",
    "\n",
    "OPENAI_API_KEY = os.getenv(\"OPENAI_AP#I_KEY\")\n",
    "GROQ_API_KEY = os.getenv(\"GROQ_API_KEY\")\n",
    "\n",
    "LLM_CHOICE = \"OPENAI\"\n",
    "LLM_CHOICE = \"GROQ\"\n",
    "\n",
    "if OPENAI_API_KEY:\n",
    "    print(f\"OPENAI_API_KEY exists and begins {OPENAI_API_KEY[:14]}...\")\n",
    "else:\n",
    "    print(\"OPENAI_API_KEY not set\")\n",
    "\n",
    "if GROQ_API_KEY:\n",
    "    print(f\"GROQ_API_KEY exists and begins {GROQ_API_KEY[:14]}...\")\n",
    "else:\n",
    "    print(\"GROQ_API_KEY not set\")\n",
    "\n",
    "\n",
    "client = get_llm_client(LLM_CHOICE)\n",
    "if LLM_CHOICE == \"GROQ\":\n",
    "    MODEL = \"llama-3.3-70b-versatile\"\n",
    "else:\n",
    "    MODEL = \"gpt-4o-mini\"\n",
    "\n",
    "print(f\"LLM_CHOICE: {LLM_CHOICE} - MODEL: {MODEL}\")"
   ]
  },
  {
   "cell_type": "code",
   "execution_count": 4,
   "id": "1eacc8a4-4b48-4358-9e06-ce0020041bc1",
   "metadata": {},
   "outputs": [],
   "source": [
    "# A request to the LLM is stateless so we will always need to pass all the data that is needed each time.\n",
    "\n",
    "# `history` is just that - a record of what has gone on before so that the LLM can have context to answer the query.\n",
    "\n",
    "\n",
    "# We will use GRADIO as our UI.\n",
    "def chat(message, history):\n",
    "    # history is part of the gradio ChatInterface and it stores previous answers\n",
    "    messages = (\n",
    "        [{\"role\": \"system\", \"content\": system_message}]\n",
    "        # + history ## groq adds metadata and causes error\n",
    "        + [{\"role\": \"user\", \"content\": message}]\n",
    "    )\n",
    "    print(\"History is:\")\n",
    "    print(history)\n",
    "    print(\"And messages is:\")\n",
    "    print(messages)\n",
    "    # ====================\n",
    "    # AI bit\n",
    "    stream = client.chat.completions.create(model=MODEL, messages=messages, stream=True)\n",
    "\n",
    "    # Just UI implementation\n",
    "    response = \"\"\n",
    "    for stream_so_far in stream:\n",
    "        response += stream_so_far.choices[0].delta.content or \"\"\n",
    "        yield response"
   ]
  },
  {
   "cell_type": "code",
   "execution_count": 5,
   "id": "1f91b414-8bab-472d-b9c9-3fa51259bdfe",
   "metadata": {},
   "outputs": [],
   "source": [
    "# We set up the backround scenario in the system messaage.\n",
    "# In some frameworks this is called 'background' or 'character'.\n",
    "\n",
    "system_message = \"\"\"You are a helpful assistant for the Django Conference. \"\"\""
   ]
  },
  {
   "cell_type": "code",
   "execution_count": 6,
   "id": "98bfa91e",
   "metadata": {},
   "outputs": [],
   "source": [
    "# FAQ is just data extracted from a source and inserted into the system message.\n",
    "# RAG - Retrieval Augmented Generation.\n",
    "# This does not need to be a vector search but additional information we pass to the LLM.\n",
    "\n",
    "# ORIGINAL FAQ about a shop\n",
    "FAQ_SHOP = [\n",
    "    \"We only sell shoes.\",\n",
    "    \"Our opening hours are Monday to Friday from 9am to 5pm.\",\n",
    "    \"We are located at 123 Main Street, Brighton\",\n",
    "    \"We specialise in red shoes but have all colours\",\n",
    "    \"Our VAT rate is 20 percent and is applicable on all sales\",\n",
    "    \"We only accept card payments\",\n",
    "]"
   ]
  },
  {
   "cell_type": "markdown",
   "id": "c04bffe8",
   "metadata": {},
   "source": [
    "FAQ for DjangoCon 2025"
   ]
  },
  {
   "cell_type": "code",
   "execution_count": 7,
   "id": "11d57e30",
   "metadata": {},
   "outputs": [],
   "source": [
    "# FAQ is just data extracted from a source and inserted into the system message.\n",
    "# RAG - Retrieval Augmented Generation.\n",
    "# This does not need to be a vector search but additional RETREIVED information we pass to the LLM to AUGMENT the prompt prior to GENERATING the response.\n",
    "FAQ = [\n",
    "    \"DjangoCon 2025 is taking place in Dublin\",\n",
    "    \"The dates are 23rd-27th April 2025\",\n",
    "    \"The venue is DjangoCon Europe 2025 will be held in Dublin! The capital of the Republic of Ireland, one of Europe’s biggest tech hubs, is a lively city with extraordinarily rich and diverse food, culture, history and art lovers - the number of museums and restaurants can certainly tickle most tastes.\",\n",
    "    \"The conference will take place at Talbot Hotel Stillorgan, Dublin\",\n",
    "    \"As an EU/EEA resident, you do not require a visa to travel to Ireland. You can enter the country freely under the Common Travel Area (CTA) agreements.\",\n",
    "    \"\"\"\n",
    "    Documents to Carry\n",
    "    Even though a visa is not required, ensure you carry:\n",
    "    - A valid passport or national ID card.\n",
    "    - Proof of accommodation (e.g., hotel bookings or host details).\n",
    "    - Your DjangoCon Europe ticket or event confirmation.\n",
    "    - Travel insurance (optional but recommended).\n",
    "    \"\"\",\n",
    "    \"DjangoCon Europe 2025 offers grants so that those who might otherwise not be able to attend won't hesitate to participate. Some expenses for the conference attendance (which could include travel, hotel, registration, etc) will be covered for opportunity grant recipients.\",\n",
    "    \"The sponsors are Ambient, Caktus, Monit to name but a few.\",\n",
    "    \"\"\"\n",
    "    Mentorship Program\n",
    "    Are you an experienced speaker eager to share your knowledge and guide aspiring speakers? Or are you planning to submit a proposal to DjangoCon Europe 2025 and looking for expert advice to craft a standout submission?\n",
    "    If you answered 'yes' to either question, this mentorship program is perfect for you!\n",
    "    \"\"\",\n",
    "    \"\"\" \n",
    "    For Mentees This is How the Program Works\n",
    "    Our aim is to pair each mentee with a dedicated mentor to foster one-on-one guidance. To simplify scheduling, we prioritize matching participants in the same timezone or country whenever possible.\n",
    "    \"\"\",\n",
    "    \"\"\"\n",
    "    A live recording of a 'The Real Python Podcast' episode with audience participation.\n",
    "\n",
    "    The Real Python Podcast is a weekly podcast hosted by Christopher Bailey with interviews, coding tips, and conversations with guests from the Python community. Bi-weekly, the episodes are cohosted by Christopher Trudeau where together the Christophers cover recent content from the PyCoders newsletter and happenings in the Python world.\n",
    "\n",
    "    The DjangoCon session would be similar to PyCoders episodes where we cover interesting recent Python articles. For DjangoCon, content would be Django focused, with the list of articles determined closer to the conference date. Questions from the audience could be on the topics covered and/or in a AMA format.\"\"\",\n",
    "    \"\"\"Sprints\n",
    "So you have listened to all the exciting topics on django for three days and now feel motivated do something about it. What could be a better motivation than contributing to the very open source software you just listened to?\n",
    "\n",
    "On Saturday and Sunday, you have the opportunity to do exactly that. This is your opportunity to contribute to Open Source software. Even if you haven't contributed before, this is also an option to take your first steps. In the sprint, you can contribute to Django as you see fit, and if you need help, there will a pool of experienced contributors to guide you.\n",
    "\n",
    "Main Venue - Hosting our Sprints\n",
    "Talbot Hotel Stillorgan\n",
    "\n",
    "Time\n",
    "Saturday - 9AM to 6PM\n",
    "Sunday - 9AM to 6PM\n",
    "The Sprints are free for all conference participants. However, as the Sprints venue does not have unlimited capacity, and we would like to prepare a precise amount of food and drinks, please keep your participation status updated on the ticketing website (after buying your ticket).\n",
    "\n",
    "We will be hosting our sprints at Talbot Hotel Stillorgan. Get ready for an amazing conference experience in beautiful Dublin!\n",
    "\n",
    "Check the map to the venue\"\"\",\n",
    "]"
   ]
  },
  {
   "cell_type": "code",
   "execution_count": 8,
   "id": "96493ba5",
   "metadata": {},
   "outputs": [],
   "source": [
    "# Create the base system message - 'character and instructions' along with retrieved data.\n",
    "system_message += \"\\n\" + \"\\n\".join(FAQ_SHOP) + \"\\n\" + \"\\n\".join(FAQ)"
   ]
  },
  {
   "cell_type": "markdown",
   "id": "9f4f1b89",
   "metadata": {},
   "source": []
  },
  {
   "cell_type": "code",
   "execution_count": 9,
   "id": "413e9e4e-7836-43ac-a0c3-e1ab5ed6b136",
   "metadata": {},
   "outputs": [
    {
     "name": "stdout",
     "output_type": "stream",
     "text": [
      "* Running on local URL:  http://127.0.0.1:7860\n",
      "\n",
      "To create a public link, set `share=True` in `launch()`.\n"
     ]
    },
    {
     "data": {
      "text/html": [
       "<div><iframe src=\"http://127.0.0.1:7860/\" width=\"100%\" height=\"500\" allow=\"autoplay; camera; microphone; clipboard-read; clipboard-write;\" frameborder=\"0\" allowfullscreen></iframe></div>"
      ],
      "text/plain": [
       "<IPython.core.display.HTML object>"
      ]
     },
     "metadata": {},
     "output_type": "display_data"
    },
    {
     "data": {
      "text/plain": []
     },
     "execution_count": 9,
     "metadata": {},
     "output_type": "execute_result"
    },
    {
     "name": "stdout",
     "output_type": "stream",
     "text": [
      "History is:\n",
      "[]\n",
      "And messages is:\n",
      "[{'role': 'system', 'content': \"You are a helpful assistant for the Django Conference. \\nWe only sell shoes.\\nOur opening hours are Monday to Friday from 9am to 5pm.\\nWe are located at 123 Main Street, Brighton\\nWe specialise in red shoes but have all colours\\nOur VAT rate is 20 percent and is applicable on all sales\\nWe only accept card payments\\nDjangoCon 2025 is taking place in Dublin\\nThe dates are 23rd-27th April 2025\\nThe venue is DjangoCon Europe 2025 will be held in Dublin! The capital of the Republic of Ireland, one of Europe’s biggest tech hubs, is a lively city with extraordinarily rich and diverse food, culture, history and art lovers - the number of museums and restaurants can certainly tickle most tastes.\\nThe conference will take place at Talbot Hotel Stillorgan, Dublin\\nAs an EU/EEA resident, you do not require a visa to travel to Ireland. You can enter the country freely under the Common Travel Area (CTA) agreements.\\n\\n    Documents to Carry\\n    Even though a visa is not required, ensure you carry:\\n    - A valid passport or national ID card.\\n    - Proof of accommodation (e.g., hotel bookings or host details).\\n    - Your DjangoCon Europe ticket or event confirmation.\\n    - Travel insurance (optional but recommended).\\n    \\nDjangoCon Europe 2025 offers grants so that those who might otherwise not be able to attend won't hesitate to participate. Some expenses for the conference attendance (which could include travel, hotel, registration, etc) will be covered for opportunity grant recipients.\\nThe sponsors are Ambient, Caktus, Monit to name but a few.\\n\\n    Mentorship Program\\n    Are you an experienced speaker eager to share your knowledge and guide aspiring speakers? Or are you planning to submit a proposal to DjangoCon Europe 2025 and looking for expert advice to craft a standout submission?\\n    If you answered 'yes' to either question, this mentorship program is perfect for you!\\n    \\n \\n    For Mentees This is How the Program Works\\n    Our aim is to pair each mentee with a dedicated mentor to foster one-on-one guidance. To simplify scheduling, we prioritize matching participants in the same timezone or country whenever possible.\\n    \\n\\n    A live recording of a 'The Real Python Podcast' episode with audience participation.\\n\\n    The Real Python Podcast is a weekly podcast hosted by Christopher Bailey with interviews, coding tips, and conversations with guests from the Python community. Bi-weekly, the episodes are cohosted by Christopher Trudeau where together the Christophers cover recent content from the PyCoders newsletter and happenings in the Python world.\\n\\n    The DjangoCon session would be similar to PyCoders episodes where we cover interesting recent Python articles. For DjangoCon, content would be Django focused, with the list of articles determined closer to the conference date. Questions from the audience could be on the topics covered and/or in a AMA format.\\nSprints\\nSo you have listened to all the exciting topics on django for three days and now feel motivated do something about it. What could be a better motivation than contributing to the very open source software you just listened to?\\n\\nOn Saturday and Sunday, you have the opportunity to do exactly that. This is your opportunity to contribute to Open Source software. Even if you haven't contributed before, this is also an option to take your first steps. In the sprint, you can contribute to Django as you see fit, and if you need help, there will a pool of experienced contributors to guide you.\\n\\nMain Venue - Hosting our Sprints\\nTalbot Hotel Stillorgan\\n\\nTime\\nSaturday - 9AM to 6PM\\nSunday - 9AM to 6PM\\nThe Sprints are free for all conference participants. However, as the Sprints venue does not have unlimited capacity, and we would like to prepare a precise amount of food and drinks, please keep your participation status updated on the ticketing website (after buying your ticket).\\n\\nWe will be hosting our sprints at Talbot Hotel Stillorgan. Get ready for an amazing conference experience in beautiful Dublin!\\n\\nCheck the map to the venue\"}, {'role': 'user', 'content': 'what is a sprint and do i need to be a good coder. also when is it'}]\n"
     ]
    }
   ],
   "source": [
    "# We use Gradio for a chat interface\n",
    "# prompt: I am interested in green belts, probably coming Sunday and will have cash. Is this OK?\n",
    "\n",
    "gr.ChatInterface(fn=chat, type=\"messages\").launch()"
   ]
  }
 ],
 "metadata": {
  "kernelspec": {
   "display_name": "venv",
   "language": "python",
   "name": "python3"
  },
  "language_info": {
   "codemirror_mode": {
    "name": "ipython",
    "version": 3
   },
   "file_extension": ".py",
   "mimetype": "text/x-python",
   "name": "python",
   "nbconvert_exporter": "python",
   "pygments_lexer": "ipython3",
   "version": "3.12.10"
  }
 },
 "nbformat": 4,
 "nbformat_minor": 5
}
