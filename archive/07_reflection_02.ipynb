{
 "cells": [
  {
   "cell_type": "markdown",
   "id": "bfb0fc85",
   "metadata": {},
   "source": [
    "<img src=\"./101_ESSENCE.png\" width=700px>"
   ]
  },
  {
   "cell_type": "markdown",
   "id": "3cc12a8b",
   "metadata": {},
   "source": [
    "### Reflection pattern\n",
    "\n",
    "## input -> function(input) -> output -> function(output) -> output2\n",
    "\n",
    "<img src=\"./100_INPUT_OUTPUT.png\" width=700px>\n",
    "\n",
    "Each LLM call is stateless so the LLM sees it for the first time. The more information (context) it has the better will be its response.\n",
    "\n",
    "We can use this pattern to implement a reflection pattern in stages or we could have gathered the information in another way and passed it in a single request as the first time.\n"
   ]
  },
  {
   "attachments": {},
   "cell_type": "markdown",
   "id": "e1bc453d-c8d3-4503-b3da-52120ad92c74",
   "metadata": {
    "tags": []
   },
   "source": [
    "\n",
    "\n",
    "<img src=\"./images/reflection.png\" alt=\"Alt text\" width=\"600\"/>\n",
    "\n",
    "---\n",
    "\n",
    "This pattern allows the LLM to reflect and critique its outputs, following the next steps:\n",
    "\n",
    "1. The LLM **generates** a candidate output. If you look at the diagram above, it happens inside the **\"Generate\"** box.\n",
    "2. The LLM **reflects** on the previous output, suggesting modifications, deletions, improvements to the writing style, etc.\n",
    "3. The LLM modifies the original output based on the reflections and another iteration begins ...\n",
    "\n",
    "**Now, we are going to build, from scratch, each step, so that you can truly understand how this pattern works.**"
   ]
  },
  {
   "cell_type": "markdown",
   "id": "7898c34d-de9a-4970-b7f4-3d86b69d45a7",
   "metadata": {},
   "source": [
    "## Generation Step"
   ]
  },
  {
   "cell_type": "code",
   "execution_count": 49,
   "id": "96731d2f-a079-4e41-9756-220f02d4ebd8",
   "metadata": {},
   "outputs": [],
   "source": [
    "import os\n",
    "from pprint import pprint\n",
    "from groq import Groq\n",
    "from dotenv import load_dotenv\n",
    "from IPython.display import display_markdown\n",
    "from openai import OpenAI\n",
    "# Remember to load the environment variables. You should have the Groq API Key in there :)\n",
    "load_dotenv()\n",
    "\n",
    "client = Groq()"
   ]
  },
  {
   "cell_type": "code",
   "execution_count": 50,
   "id": "ab78a0b9",
   "metadata": {},
   "outputs": [],
   "source": [
    "def get_llm_client(llm_choice):\n",
    "    if llm_choice == \"GROQ\":\n",
    "        client = OpenAI(\n",
    "            base_url=\"https://api.groq.com/openai/v1\",\n",
    "            api_key=os.environ.get(\"GROQ_API_KEY\"),\n",
    "        )\n",
    "        return client\n",
    "    elif llm_choice == \"OPENAI\":\n",
    "        load_dotenv()  # load environment variables from .env fil\n",
    "        client = OpenAI(api_key=os.environ.get(\"OPENAI_API_KEY\"))\n",
    "        return client\n",
    "    else:\n",
    "        raise ValueError(\"Invalid LLM choice. Please choose 'GROQ' or 'OPENAI'.\")"
   ]
  },
  {
   "cell_type": "markdown",
   "id": "e644a635-e035-44e2-8c25-cee0f2b56556",
   "metadata": {},
   "source": [
    "We will start the **\"generation\"** chat history with the system prompt, as we said before. In this case, let the LLM act like a Python \n",
    "programmer eager to receive feedback / critique by the user."
   ]
  },
  {
   "cell_type": "code",
   "execution_count": 51,
   "id": "44bfbe32",
   "metadata": {},
   "outputs": [
    {
     "name": "stdout",
     "output_type": "stream",
     "text": [
      "OPENAI_API_KEY exists and begins sk-proj-1WUVgv...\n",
      "GROQ_API_KEY exists and begins gsk_11hFN1EMfj...\n",
      "LLM_CHOICE: GROQ - MODEL: llama-3.3-70b-versatile\n"
     ]
    }
   ],
   "source": [
    "# Load environment variables in a file called .env\n",
    "# Print the key prefixes to help with any debugging\n",
    "load_dotenv()\n",
    "\n",
    "OPENAI_API_KEY = os.getenv(\"OPENAI_API_KEY\")\n",
    "GROQ_API_KEY = os.getenv(\"GROQ_API_KEY\")\n",
    "\n",
    "# LLM_CHOICE = \"OPENAI\"\n",
    "LLM_CHOICE = \"GROQ\"\n",
    "\n",
    "if OPENAI_API_KEY:\n",
    "    print(f\"OPENAI_API_KEY exists and begins {OPENAI_API_KEY[:14]}...\")\n",
    "else:\n",
    "    print(\"OPENAI_API_KEY not set\")\n",
    "\n",
    "if GROQ_API_KEY:\n",
    "    print(f\"GROQ_API_KEY exists and begins {GROQ_API_KEY[:14]}...\")\n",
    "else:\n",
    "    print(\"GROQ_API_KEY not set\")\n",
    "\n",
    "\n",
    "client = get_llm_client(LLM_CHOICE)\n",
    "if LLM_CHOICE == \"GROQ\":\n",
    "    MODEL = \"llama-3.3-70b-versatile\"\n",
    "else:\n",
    "    MODEL = \"gpt-4o-mini\"\n",
    "\n",
    "print(f\"LLM_CHOICE: {LLM_CHOICE} - MODEL: {MODEL}\")"
   ]
  },
  {
   "cell_type": "code",
   "execution_count": 52,
   "id": "12467256-c741-495a-9923-439c1fcf270d",
   "metadata": {},
   "outputs": [],
   "source": [
    "generation_chat_history = [\n",
    "    {\n",
    "        \"role\": \"system\",\n",
    "        \"content\": \"You are a Python programmer tasked with generating high quality Python code.\"\n",
    "        \"Your task is to Generate the best content possible for the user's request. If the user provides critique,\" \n",
    "        \"respond with a revised version of your previous attempt.\"\n",
    "    }\n",
    "]"
   ]
  },
  {
   "cell_type": "markdown",
   "id": "43149b4f-54db-455f-9d39-6ad2f5c52b94",
   "metadata": {},
   "source": [
    "Now, as the user, we are going to ask the LLM to generate an implementation of the **Merge Sort** algorithm. Just add a new message with the **user** role to the chat history."
   ]
  },
  {
   "cell_type": "code",
   "execution_count": 53,
   "id": "0742e7bd-4857-4ed1-a96b-37098d448bdd",
   "metadata": {},
   "outputs": [],
   "source": [
    "generation_chat_history.append(\n",
    "    {\n",
    "        \"role\": \"user\",\n",
    "        \"content\": \"Generate a Python implementation of the an AI Agent that uses the ReAct thought-observer architecture\"\n",
    "    }\n",
    ")"
   ]
  },
  {
   "cell_type": "markdown",
   "id": "4df1bffe-375f-4a9a-8433-e217eb94aea2",
   "metadata": {},
   "source": [
    "Let's generate the first version of the essay."
   ]
  },
  {
   "cell_type": "code",
   "execution_count": 54,
   "id": "ff984277-733c-4495-b7fd-0669393380b8",
   "metadata": {},
   "outputs": [],
   "source": [
    "generated_code = client.chat.completions.create(\n",
    "    messages=generation_chat_history,\n",
    "    model=MODEL, \n",
    ").choices[0].message.content\n",
    "\n",
    "generation_chat_history.append(\n",
    "    {\n",
    "        \"role\": \"assistant\",\n",
    "        \"content\": generated_code\n",
    "    }\n",
    ")"
   ]
  },
  {
   "cell_type": "code",
   "execution_count": 55,
   "id": "c03f208b-2234-4fd1-a02b-f4fff06c01a6",
   "metadata": {},
   "outputs": [
    {
     "data": {
      "text/markdown": [
       "**ReAct Thought-Observer Architecture Implementation**\n",
       "=====================================================\n",
       "\n",
       "The ReAct (Reasoning and Acting) thought-observer architecture is a cognitive architecture that emphasizes the role of self-reflection and meta-cognition in intelligent behavior. This implementation provides a basic framework for an AI agent that uses the ReAct thought-observer architecture.\n",
       "\n",
       "### ReAct Architecture Components\n",
       "\n",
       "The ReAct architecture consists of the following components:\n",
       "\n",
       "* **Thought Module**: responsible for generating thoughts and plans\n",
       "* **Observer Module**: responsible for monitoring and evaluating the thoughts and plans generated by the Thought Module\n",
       "* **Critic Module**: responsible for evaluating the performance of the agent and providing feedback to the Thought Module\n",
       "* **Actor Module**: responsible for executing the plans generated by the Thought Module\n",
       "\n",
       "### Python Implementation\n",
       "\n",
       "```python\n",
       "import random\n",
       "\n",
       "class ThoughtModule:\n",
       "    \"\"\"Responsible for generating thoughts and plans\"\"\"\n",
       "    def __init__(self):\n",
       "        self.thoughts = []\n",
       "\n",
       "    def generate_thoughts(self):\n",
       "        \"\"\"Generate a list of possible thoughts and plans\"\"\"\n",
       "        thoughts = [\n",
       "            {\"thought\": \"Explore the environment\", \"plan\": \"Move to a new location\"},\n",
       "            {\"thought\": \"Gather resources\", \"plan\": \"Collect resources from the environment\"},\n",
       "            {\"thought\": \"Avoid obstacles\", \"plan\": \"Avoid obstacles in the environment\"}\n",
       "        ]\n",
       "        self.thoughts = thoughts\n",
       "        return thoughts\n",
       "\n",
       "class ObserverModule:\n",
       "    \"\"\"Responsible for monitoring and evaluating thoughts and plans\"\"\"\n",
       "    def __init__(self):\n",
       "        self.evaluated_thoughts = []\n",
       "\n",
       "    def evaluate_thoughts(self, thoughts):\n",
       "        \"\"\"Evaluate the thoughts and plans generated by the Thought Module\"\"\"\n",
       "        evaluated_thoughts = []\n",
       "        for thought in thoughts:\n",
       "            evaluation = random.random()  # simulate evaluation\n",
       "            evaluated_thoughts.append({\"thought\": thought[\"thought\"], \"evaluation\": evaluation})\n",
       "        self.evaluated_thoughts = evaluated_thoughts\n",
       "        return evaluated_thoughts\n",
       "\n",
       "class CriticModule:\n",
       "    \"\"\"Responsible for evaluating the performance of the agent\"\"\"\n",
       "    def __init__(self):\n",
       "        self.performance = 0\n",
       "\n",
       "    def evaluate_performance(self, thoughts):\n",
       "        \"\"\"Evaluate the performance of the agent based on the thoughts and plans generated\"\"\"\n",
       "        performance = 0\n",
       "        for thought in thoughts:\n",
       "            performance += thought[\"evaluation\"]\n",
       "        self.performance = performance\n",
       "        return performance\n",
       "\n",
       "class ActorModule:\n",
       "    \"\"\"Responsible for executing the plans generated by the Thought Module\"\"\"\n",
       "    def __init__(self):\n",
       "        self.executed_plans = []\n",
       "\n",
       "    def execute_plans(self, thoughts):\n",
       "        \"\"\"Execute the plans generated by the Thought Module\"\"\"\n",
       "        executed_plans = []\n",
       "        for thought in thoughts:\n",
       "            if thought[\"evaluation\"] > 0.5:  # execute plan if evaluation is high\n",
       "                executed_plans.append({\"plan\": thought[\"plan\"], \"execution\": \"Success\"})\n",
       "        self.executed_plans = executed_plans\n",
       "        return executed_plans\n",
       "\n",
       "class ReActAgent:\n",
       "    \"\"\"AI agent that uses the ReAct thought-observer architecture\"\"\"\n",
       "    def __init__(self):\n",
       "        self.thought_module = ThoughtModule()\n",
       "        self.observer_module = ObserverModule()\n",
       "        self.critic_module = CriticModule()\n",
       "        self.actor_module = ActorModule()\n",
       "\n",
       "    def run(self):\n",
       "        \"\"\"Run the ReAct agent\"\"\"\n",
       "        thoughts = self.thought_module.generate_thoughts()\n",
       "        evaluated_thoughts = self.observer_module.evaluate_thoughts(thoughts)\n",
       "        performance = self.critic_module.evaluate_performance(evaluated_thoughts)\n",
       "        executed_plans = self.actor_module.execute_plans(evaluated_thoughts)\n",
       "        return executed_plans\n",
       "\n",
       "# Example usage:\n",
       "agent = ReActAgent()\n",
       "executed_plans = agent.run()\n",
       "print(\"Executed Plans:\")\n",
       "for plan in executed_plans:\n",
       "    print(plan)\n",
       "```\n",
       "\n",
       "This implementation provides a basic framework for an AI agent that uses the ReAct thought-observer architecture. The agent generates thoughts and plans, evaluates them, and executes the plans based on their evaluation. The `ReActAgent` class integrates the components of the ReAct architecture and provides a `run` method that simulates the agent's behavior. The example usage demonstrates how to create an instance of the `ReActAgent` class and run the agent to execute plans.\n",
       "\n",
       "### Future Work\n",
       "\n",
       "To further develop this implementation, you can consider the following:\n",
       "\n",
       "* **Add more complexity to the thoughts and plans**: Currently, the thoughts and plans are simple strings. You can add more complexity by using data structures such as dictionaries or objects to represent the thoughts and plans.\n",
       "* **Improve the evaluation and criticism**: The current implementation uses random numbers to simulate evaluation and criticism. You can improve this by using more sophisticated algorithms or machine learning models to evaluate and criticize the thoughts and plans.\n",
       "* **Add learning and adaptation**: The ReAct architecture emphasizes the role of self-reflection and meta-cognition in intelligent behavior. You can add learning and adaptation mechanisms to the agent, such as reinforcement learning or evolutionary algorithms, to improve its performance over time."
      ]
     },
     "metadata": {},
     "output_type": "display_data"
    }
   ],
   "source": [
    "display_markdown(generated_code, raw=True)"
   ]
  },
  {
   "cell_type": "markdown",
   "id": "6a04ebe5-0573-4520-a529-aff22d486b7d",
   "metadata": {},
   "source": [
    "## Reflection Step"
   ]
  },
  {
   "cell_type": "markdown",
   "id": "67aa69e4-632f-4a0c-a6f0-c5a7ced4849d",
   "metadata": {
    "tags": []
   },
   "source": [
    "Now, let's allow the LLM to reflect on its outputs by defining another system prompt."
   ]
  },
  {
   "cell_type": "code",
   "execution_count": 56,
   "id": "9d93c928-d585-48af-a74c-a5b8d84593c6",
   "metadata": {
    "tags": []
   },
   "outputs": [],
   "source": [
    "reflection_chat_history = [\n",
    "    {\n",
    "    \"role\": \"system\",\n",
    "    \"content\": \"You are an experienced Python reviewer. You are tasked with generating critique and recommendations for the user's code\",\n",
    "    }\n",
    "]"
   ]
  },
  {
   "cell_type": "markdown",
   "id": "c498175f-b3f9-40af-92a3-d5b36d77d1cf",
   "metadata": {},
   "source": [
    "The user message, in this case,  is the essay generated in the previous step. We simply add the `mergesort_code` to the `reflection_chat_history`."
   ]
  },
  {
   "cell_type": "code",
   "execution_count": 57,
   "id": "26af1a73-4d91-40e8-a9bc-c34d32b2ab82",
   "metadata": {
    "tags": []
   },
   "outputs": [],
   "source": [
    "reflection_chat_history.append(\n",
    "    {\n",
    "        \"role\": \"user\",\n",
    "        \"content\": generated_code\n",
    "    }\n",
    ")"
   ]
  },
  {
   "cell_type": "markdown",
   "id": "bfa994c8-3612-47b0-9571-e21d0d73d896",
   "metadata": {},
   "source": [
    "Now, let's generate a critique to the Python code."
   ]
  },
  {
   "cell_type": "code",
   "execution_count": 58,
   "id": "40fee42f-d47a-41b1-a40d-7208ba76ce98",
   "metadata": {
    "tags": []
   },
   "outputs": [],
   "source": [
    "# critique = client.chat.completions.create(\n",
    "#     messages=reflection_chat_history,\n",
    "#     model=\"llama3-70b-8192\"\n",
    "# ).choices[0].message.content\n",
    "\n",
    "critique = client.chat.completions.create(\n",
    "    messages=reflection_chat_history,\n",
    "    model=MODEL, \n",
    ").choices[0].message.content"
   ]
  },
  {
   "cell_type": "code",
   "execution_count": 59,
   "id": "0fef3203-c7f1-407f-8b9b-4e8ae140a4cb",
   "metadata": {
    "tags": []
   },
   "outputs": [
    {
     "data": {
      "text/markdown": [
       "**Code Review and Recommendations**\n",
       "\n",
       "The provided code is a basic implementation of the ReAct thought-observer architecture. It includes the necessary components such as the Thought Module, Observer Module, Critic Module, Actor Module, and the ReAct Agent. The code is well-structured, and the classes are properly defined with their respective responsibilities.\n",
       "\n",
       "### Code Quality and Best Practices\n",
       "\n",
       "1. **Docstrings and Comments**: The code includes docstrings for each class, which is good practice. However, some methods could benefit from additional comments to explain their purpose and any complex logic.\n",
       "2. **Type Hints**: The code does not include type hints for method parameters and return types. Adding type hints would improve code readability and maintainability.\n",
       "3. **Error Handling**: The code does not handle potential errors that may occur during execution. It's essential to include try-except blocks to handle exceptions and provide meaningful error messages.\n",
       "4. **Code Duplication**: The `ThoughtModule` and `ObserverModule` classes have similar data structures. Consider creating a separate class or data structure to avoid code duplication.\n",
       "\n",
       "### Performance and Scalability\n",
       "\n",
       "1. **Random Evaluation**: The `ObserverModule` uses random numbers to simulate evaluation. This may not be suitable for large-scale applications. Consider using more sophisticated algorithms or machine learning models to evaluate thoughts and plans.\n",
       "2. **Performance Metrics**: The `CriticModule` uses a simple sum of evaluations to calculate performance. Consider using more advanced metrics, such as weighted averages or machine learning models, to evaluate performance.\n",
       "\n",
       "### Future Development and Improvements\n",
       "\n",
       "1. **Complex Thoughts and Plans**: As mentioned in the future work section, consider using more complex data structures to represent thoughts and plans.\n",
       "2. **Learning and Adaptation**: Integrate learning and adaptation mechanisms, such as reinforcement learning or evolutionary algorithms, to improve the agent's performance over time.\n",
       "3. **Multi-Agent Systems**: Consider extending the ReAct architecture to support multi-agent systems, where multiple agents interact and cooperate to achieve common goals.\n",
       "\n",
       "### Code Refactoring and Improvements\n",
       "\n",
       "Here is an example of how the `ThoughtModule` class could be refactored to include type hints and a separate data structure for thoughts:\n",
       "```python\n",
       "from dataclasses import dataclass\n",
       "from typing import List\n",
       "\n",
       "@dataclass\n",
       "class Thought:\n",
       "    \"\"\"Represents a thought or plan\"\"\"\n",
       "    thought: str\n",
       "    plan: str\n",
       "\n",
       "class ThoughtModule:\n",
       "    \"\"\"Responsible for generating thoughts and plans\"\"\"\n",
       "    def __init__(self):\n",
       "        self.thoughts: List[Thought] = []\n",
       "\n",
       "    def generate_thoughts(self) -> List[Thought]:\n",
       "        \"\"\"Generate a list of possible thoughts and plans\"\"\"\n",
       "        thoughts = [\n",
       "            Thought(\"Explore the environment\", \"Move to a new location\"),\n",
       "            Thought(\"Gather resources\", \"Collect resources from the environment\"),\n",
       "            Thought(\"Avoid obstacles\", \"Avoid obstacles in the environment\")\n",
       "        ]\n",
       "        self.thoughts = thoughts\n",
       "        return thoughts\n",
       "```\n",
       "Similarly, the `ObserverModule` and `CriticModule` classes could be refactored to include type hints and more sophisticated evaluation and criticism mechanisms.\n",
       "\n",
       "### Example Use Case\n",
       "\n",
       "To demonstrate the usage of the refactored `ThoughtModule` class, you can create an instance of the `ReActAgent` class and run the agent to execute plans:\n",
       "```python\n",
       "agent = ReActAgent()\n",
       "executed_plans = agent.run()\n",
       "print(\"Executed Plans:\")\n",
       "for plan in executed_plans:\n",
       "    print(plan)\n",
       "```\n",
       "This code will generate thoughts and plans, evaluate them, and execute the plans based on their evaluation. The output will display the executed plans, which can be used to further improve the agent's performance."
      ]
     },
     "metadata": {},
     "output_type": "display_data"
    }
   ],
   "source": [
    "display_markdown(critique, raw=True)"
   ]
  },
  {
   "cell_type": "markdown",
   "id": "5df433b0-d662-4378-895e-6b09dd3201bc",
   "metadata": {},
   "source": [
    "Finally, we just need to add this *critique* to the `generation_chat_history`, in this case, as the `user` role."
   ]
  },
  {
   "cell_type": "code",
   "execution_count": 60,
   "id": "27a85bb3-cf6a-4576-8caf-cd41e602a1f1",
   "metadata": {
    "tags": []
   },
   "outputs": [],
   "source": [
    "generation_chat_history.append(\n",
    "    {\n",
    "        \"role\": \"user\",\n",
    "        \"content\": critique\n",
    "    }\n",
    ")"
   ]
  },
  {
   "cell_type": "markdown",
   "id": "c3c1aefa-8454-41ab-af40-2675f340a577",
   "metadata": {},
   "source": [
    "## Generation Step (II)"
   ]
  },
  {
   "cell_type": "code",
   "execution_count": 61,
   "id": "91d845cf-51c3-4cfd-b6a7-1b970413f6db",
   "metadata": {
    "tags": []
   },
   "outputs": [],
   "source": [
    "# essay = client.chat.completions.create(\n",
    "#     messages=generation_chat_history,\n",
    "#     model=\"llama3-70b-8192\"\n",
    "# ).choices[0].message.content\n",
    "\n",
    "critique = client.chat.completions.create(\n",
    "    messages=generation_chat_history,\n",
    "    model=MODEL, \n",
    ").choices[0].message.content"
   ]
  },
  {
   "cell_type": "code",
   "execution_count": 62,
   "id": "ef14eaa8-f501-4efc-997f-8564ec8dccd8",
   "metadata": {
    "tags": []
   },
   "outputs": [
    {
     "data": {
      "text/markdown": [
       "I'm happy to help and provide an updated implementation. Here's a revised version of the code that addresses some of the suggestions mentioned earlier:\n",
       "\n",
       "```python\n",
       "import random\n",
       "from typing import Dict\n",
       "from abc import ABC, abstractmethod\n",
       "\n",
       "class ThoughtModule:\n",
       "    \"\"\"Represents the agent's cognitive state.\"\"\"\n",
       "    def __init__(self):\n",
       "        self.state: Dict = {}  # Agent's current state\n",
       "        self.goals: Dict = {}  # Agent's goals\n",
       "        self.plans: Dict = {}  # Agent's plans\n",
       "\n",
       "    def update_state(self, new_state: Dict) -> None:\n",
       "        \"\"\"Update the agent's state.\"\"\"\n",
       "        self.state = new_state\n",
       "\n",
       "    def update_goals(self, new_goals: Dict) -> None:\n",
       "        \"\"\"Update the agent's goals.\"\"\"\n",
       "        self.goals = new_goals\n",
       "\n",
       "    def update_plans(self, new_plans: Dict) -> None:\n",
       "        \"\"\"Update the agent's plans.\"\"\"\n",
       "        self.plans = new_plans\n",
       "\n",
       "\n",
       "class ObserverModule(ABC):\n",
       "    \"\"\"Abstract base class for environment observers.\"\"\"\n",
       "    @abstractmethod\n",
       "    def observe_environment(self) -> Dict:\n",
       "        \"\"\"Observe the environment and return the current state.\"\"\"\n",
       "        pass\n",
       "\n",
       "\n",
       "class SimulatedObserver(ObserverModule):\n",
       "    \"\"\"Simulated environment observer.\"\"\"\n",
       "    def observe_environment(self) -> Dict:\n",
       "        \"\"\"Simulate observing the environment.\"\"\"\n",
       "        return {\n",
       "            \"temperature\": random.randint(0, 100),\n",
       "            \"humidity\": random.randint(0, 100),\n",
       "        }\n",
       "\n",
       "\n",
       "class RealWorldObserver(ObserverModule):\n",
       "    \"\"\"Real-world environment observer.\"\"\"\n",
       "    def observe_environment(self) -> Dict:\n",
       "        # Implement real-world data acquisition logic here\n",
       "        pass\n",
       "\n",
       "\n",
       "class ReactorModule:\n",
       "    \"\"\"React to changes in the Thought module.\"\"\"\n",
       "    def __init__(self):\n",
       "        pass\n",
       "\n",
       "    def react(self, thought_module: ThoughtModule) -> None:\n",
       "        \"\"\"React to changes in the Thought module.\"\"\"\n",
       "        if thought_module.goals.get(\"temperature\") == 50:\n",
       "            print(\"Adjusting heater to 50°C\")\n",
       "        elif thought_module.goals.get(\"humidity\") == 60:\n",
       "            print(\"Adjusting humidifier to 60%\")\n",
       "\n",
       "\n",
       "class ReActAgent:\n",
       "    \"\"\"ReAct agent that combines Thought, Observer, and Reactor modules.\"\"\"\n",
       "    def __init__(self, thought_module: ThoughtModule, observer_module: ObserverModule, reactor_module: ReactorModule):\n",
       "        self.thought_module = thought_module\n",
       "        self.observer_module = observer_module\n",
       "        self.reactor_module = reactor_module\n",
       "\n",
       "    def run(self, num_iterations: int) -> None:\n",
       "        \"\"\"Run the ReAct agent for a specified number of iterations.\"\"\"\n",
       "        for _ in range(num_iterations):\n",
       "            # Observe the environment\n",
       "            environment_state = self.observer_module.observe_environment()\n",
       "\n",
       "            # Update the Thought module\n",
       "            self.thought_module.update_state(environment_state)\n",
       "            self.thought_module.update_goals({\"temperature\": 50, \"humidity\": 60})\n",
       "\n",
       "            # React to changes in the Thought module\n",
       "            self.reactor_module.react(self.thought_module)\n",
       "\n",
       "\n",
       "def create_react_agent(observer_type: str) -> ReActAgent:\n",
       "    \"\"\"Create a ReAct agent with a specified observer type.\"\"\"\n",
       "    thought_module = ThoughtModule()\n",
       "    if observer_type == \"simulated\":\n",
       "        observer_module = SimulatedObserver()\n",
       "    elif observer_type == \"real_world\":\n",
       "        observer_module = RealWorldObserver()\n",
       "    else:\n",
       "        raise ValueError(\"Invalid observer type\")\n",
       "    reactor_module = ReactorModule()\n",
       "    return ReActAgent(thought_module, observer_module, reactor_module)\n",
       "\n",
       "\n",
       "if __name__ == \"__main__\":\n",
       "    react_agent = create_react_agent(\"simulated\")\n",
       "    react_agent.run(10)\n",
       "\n",
       "```\n",
       "\n",
       "This revised implementation includes:\n",
       "\n",
       "*   An abstract `ObserverModule` class with a concrete `SimulatedObserver` implementation and a new `RealWorldObserver` class, which can be implemented to acquire real-world data.\n",
       "*   A `create_react_agent` function that allows creating a `ReActAgent` instance with a specified observer type.\n",
       "*   The `ReActAgent` class takes instances of the `ThoughtModule`, `ObserverModule`, and `ReactorModule` classes as parameters, allowing for more flexibility and modularity.\n",
       "*   The `run` method of the `ReActAgent` class now takes a specified number of iterations as a parameter, allowing for more control over the agent's execution.\n",
       "\n",
       "This code still has room for improvement, but it addresses some of the issues mentioned in the review."
      ]
     },
     "metadata": {},
     "output_type": "display_data"
    }
   ],
   "source": [
    "display_markdown(essay, raw=True)"
   ]
  }
 ],
 "metadata": {
  "kernelspec": {
   "display_name": "venv",
   "language": "python",
   "name": "python3"
  },
  "language_info": {
   "codemirror_mode": {
    "name": "ipython",
    "version": 3
   },
   "file_extension": ".py",
   "mimetype": "text/x-python",
   "name": "python",
   "nbconvert_exporter": "python",
   "pygments_lexer": "ipython3",
   "version": "3.12.5"
  }
 },
 "nbformat": 4,
 "nbformat_minor": 5
}
