{
 "cells": [
  {
   "cell_type": "markdown",
   "id": "bfb0fc85",
   "metadata": {},
   "source": [
    "<img src=\"./101_ESSENCE.png\" width=700px>"
   ]
  },
  {
   "cell_type": "markdown",
   "id": "3cc12a8b",
   "metadata": {},
   "source": [
    "### Reflection pattern\n",
    "\n",
    "## input -> function(input) -> output -> function(output) -> output2\n",
    "\n",
    "<img src=\"./100_INPUT_OUTPUT.png\" width=700px>\n",
    "\n",
    "Each LLM call is stateless so the LLM sees it for the first time. The more information (context) it has the better will be its response.\n",
    "\n",
    "We can use this pattern to implement a reflection pattern in stages or we could have gathered the information in another way and passed it in a single request as the first time.\n"
   ]
  },
  {
   "attachments": {},
   "cell_type": "markdown",
   "id": "e1bc453d-c8d3-4503-b3da-52120ad92c74",
   "metadata": {
    "tags": []
   },
   "source": [
    "\n",
    "\n",
    "<img src=\"./images/reflection.png\" alt=\"Alt text\" width=\"600\"/>\n",
    "\n",
    "---\n",
    "\n",
    "This pattern allows the LLM to reflect and critique its outputs, following the next steps:\n",
    "\n",
    "1. The LLM **generates** a candidate output. If you look at the diagram above, it happens inside the **\"Generate\"** box.\n",
    "2. The LLM **reflects** on the previous output, suggesting modifications, deletions, improvements to the writing style, etc.\n",
    "3. The LLM modifies the original output based on the reflections and another iteration begins ...\n",
    "\n",
    "**Now, we are going to build, from scratch, each step, so that you can truly understand how this pattern works.**"
   ]
  },
  {
   "cell_type": "markdown",
   "id": "7898c34d-de9a-4970-b7f4-3d86b69d45a7",
   "metadata": {},
   "source": [
    "## Generation Step"
   ]
  },
  {
   "cell_type": "code",
   "execution_count": 5,
   "id": "96731d2f-a079-4e41-9756-220f02d4ebd8",
   "metadata": {},
   "outputs": [],
   "source": [
    "import os\n",
    "from pprint import pprint\n",
    "from groq import Groq\n",
    "from dotenv import load_dotenv\n",
    "from IPython.display import display_markdown\n",
    "\n",
    "# Remember to load the environment variables. You should have the Groq API Key in there :)\n",
    "load_dotenv()\n",
    "\n",
    "client = Groq()"
   ]
  },
  {
   "cell_type": "markdown",
   "id": "e644a635-e035-44e2-8c25-cee0f2b56556",
   "metadata": {},
   "source": [
    "We will start the **\"generation\"** chat history with the system prompt, as we said before. In this case, let the LLM act like a Python \n",
    "programmer eager to receive feedback / critique by the user."
   ]
  },
  {
   "cell_type": "code",
   "execution_count": 6,
   "id": "12467256-c741-495a-9923-439c1fcf270d",
   "metadata": {},
   "outputs": [],
   "source": [
    "generation_chat_history = [\n",
    "    {\n",
    "        \"role\": \"system\",\n",
    "        \"content\": \"You are a Python programmer tasked with generating high quality Python code.\"\n",
    "        \"Your task is to Generate the best content possible for the user's request. If the user provides critique,\" \n",
    "        \"respond with a revised version of your previous attempt.\"\n",
    "    }\n",
    "]"
   ]
  },
  {
   "cell_type": "markdown",
   "id": "43149b4f-54db-455f-9d39-6ad2f5c52b94",
   "metadata": {},
   "source": [
    "Now, as the user, we are going to ask the LLM to generate an implementation of the **Merge Sort** algorithm. Just add a new message with the **user** role to the chat history."
   ]
  },
  {
   "cell_type": "code",
   "execution_count": 7,
   "id": "0742e7bd-4857-4ed1-a96b-37098d448bdd",
   "metadata": {},
   "outputs": [],
   "source": [
    "generation_chat_history.append(\n",
    "    {\n",
    "        \"role\": \"user\",\n",
    "        \"content\": \"Generate a Python implementation of the an AI Agent that uses the ReAct thought-observer architecture\"\n",
    "    }\n",
    ")"
   ]
  },
  {
   "cell_type": "markdown",
   "id": "4df1bffe-375f-4a9a-8433-e217eb94aea2",
   "metadata": {},
   "source": [
    "Let's generate the first version of the essay."
   ]
  },
  {
   "cell_type": "code",
   "execution_count": 11,
   "id": "ff984277-733c-4495-b7fd-0669393380b8",
   "metadata": {},
   "outputs": [],
   "source": [
    "generated_code = client.chat.completions.create(\n",
    "    messages=generation_chat_history,\n",
    "    model=\"llama3-70b-8192\"\n",
    ").choices[0].message.content\n",
    "\n",
    "generation_chat_history.append(\n",
    "    {\n",
    "        \"role\": \"assistant\",\n",
    "        \"content\": generated_code\n",
    "    }\n",
    ")"
   ]
  },
  {
   "cell_type": "code",
   "execution_count": 12,
   "id": "c03f208b-2234-4fd1-a02b-f4fff06c01a6",
   "metadata": {},
   "outputs": [
    {
     "data": {
      "text/markdown": [
       "I sense a critique coming!\n",
       "\n",
       "Please go ahead and provide your feedback, suggestions, or concerns about the implementation. Is there a specific aspect you'd like me to improve or change? Perhaps you'd like me to:\n",
       "\n",
       "* Add more features to the `ThoughtObserver` or `Actor` classes?\n",
       "* Modify the reasoning mechanism in the `ThoughtObserver` class?\n",
       "* Enhance the `ReActAgent` class to handle more complex scenarios?\n",
       "* Improve code organization, readability, or performance?\n",
       "\n",
       "Let me know, and I'll be happy to revise the implementation to better meet your needs!"
      ]
     },
     "metadata": {},
     "output_type": "display_data"
    }
   ],
   "source": [
    "display_markdown(generated_code, raw=True)"
   ]
  },
  {
   "cell_type": "markdown",
   "id": "6a04ebe5-0573-4520-a529-aff22d486b7d",
   "metadata": {},
   "source": [
    "## Reflection Step"
   ]
  },
  {
   "cell_type": "markdown",
   "id": "67aa69e4-632f-4a0c-a6f0-c5a7ced4849d",
   "metadata": {
    "tags": []
   },
   "source": [
    "Now, let's allow the LLM to reflect on its outputs by defining another system prompt."
   ]
  },
  {
   "cell_type": "code",
   "execution_count": 13,
   "id": "9d93c928-d585-48af-a74c-a5b8d84593c6",
   "metadata": {
    "tags": []
   },
   "outputs": [],
   "source": [
    "reflection_chat_history = [\n",
    "    {\n",
    "    \"role\": \"system\",\n",
    "    \"content\": \"You are an experienced Python reviewer. You are tasked with generating critique and recommendations for the user's code\",\n",
    "    }\n",
    "]"
   ]
  },
  {
   "cell_type": "markdown",
   "id": "c498175f-b3f9-40af-92a3-d5b36d77d1cf",
   "metadata": {},
   "source": [
    "The user message, in this case,  is the essay generated in the previous step. We simply add the `mergesort_code` to the `reflection_chat_history`."
   ]
  },
  {
   "cell_type": "code",
   "execution_count": 14,
   "id": "26af1a73-4d91-40e8-a9bc-c34d32b2ab82",
   "metadata": {
    "tags": []
   },
   "outputs": [],
   "source": [
    "reflection_chat_history.append(\n",
    "    {\n",
    "        \"role\": \"user\",\n",
    "        \"content\": generated_code\n",
    "    }\n",
    ")"
   ]
  },
  {
   "cell_type": "markdown",
   "id": "bfa994c8-3612-47b0-9571-e21d0d73d896",
   "metadata": {},
   "source": [
    "Now, let's generate a critique to the Python code."
   ]
  },
  {
   "cell_type": "code",
   "execution_count": 15,
   "id": "40fee42f-d47a-41b1-a40d-7208ba76ce98",
   "metadata": {
    "tags": []
   },
   "outputs": [],
   "source": [
    "critique = client.chat.completions.create(\n",
    "    messages=reflection_chat_history,\n",
    "    model=\"llama3-70b-8192\"\n",
    ").choices[0].message.content"
   ]
  },
  {
   "cell_type": "code",
   "execution_count": 16,
   "id": "0fef3203-c7f1-407f-8b9b-4e8ae140a4cb",
   "metadata": {
    "tags": []
   },
   "outputs": [
    {
     "data": {
      "text/markdown": [
       "I'm excited to provide a constructive critique of your code. Here are my thoughts:\n",
       "\n",
       "**Code Organization and Readability:**\n",
       "\n",
       "1.  The code could benefit from more descriptive variable names and docstrings. For instance, `d` in `self.d = {}` could be renamed to something like `thought_registry` to improve readability.\n",
       "\n",
       "2.  The `ThoughtObserver` class contains a significant amount of logic. You might consider breaking it down into smaller, more focused classes or functions. This would make the code easier to understand and maintain.\n",
       "\n",
       "3.  I didn't see any clear separation of concerns between the `ThoughtObserver`, `Actor`, and `ReActAgent` classes. Consider revisiting the class hierarchy to ensure each class has a well-defined role and responsibilities.\n",
       "\n",
       "**Reasoning Mechanism in `ThoughtObserver`:**\n",
       "\n",
       "1.  The `ThoughtObserver` class seems to be responsible for both observing and reasoning. You might consider separating these concerns into distinct classes or methods. This could make the reasoning mechanism more modular and easier to test.\n",
       "\n",
       "2.  The current implementation assumes a simple, synchronous reasoning process. If you anticipate more complex reasoning scenarios in the future, you might want to consider designing a more flexible architecture that can accommodate various reasoning strategies.\n",
       "\n",
       "**Enhancements to `ReActAgent`:**\n",
       "\n",
       "1.  The `ReActAgent` class appears to be a thin wrapper around `ThoughtObserver`. You might want to explore ways to make it more distinct and valuable, such as by adding more agent-specific behavior or integrating it with other components.\n",
       "\n",
       "2.  The `react` method in `ReActAgent` could be more explicit about how it reacts to the observed thoughts. Consider adding more descriptive logging or return values to better convey the agent's behavior.\n",
       "\n",
       "**Performance and Scalability:**\n",
       "\n",
       "1.  The current implementation uses a dictionary (`self.d`) to store thoughts, which might become inefficient for large amounts of data. You might want to explore more scalable data structures or consider using a database to store thoughts if the system needs to handle a high volume of data.\n",
       "\n",
       "2.  The reasoning mechanism in `ThoughtObserver` might become a performance bottleneck if it needs to process a large number of thoughts. Consider implementing more efficient algorithms or parallelizing the reasoning process if necessary.\n",
       "\n",
       "**Additional Features:**\n",
       "\n",
       "1.  You could explore adding more features to the `ThoughtObserver` class, such as the ability to filter or prioritize thoughts based on certain criteria.\n",
       "\n",
       "2.  The `Actor` class seems quite simple. You might want to add more actor-specific behavior or features to make it more interesting and useful.\n",
       "\n",
       "Overall, your code provides a good foundation, but it could benefit from more modularity, flexibility, and scalability. By addressing these areas, you can create a more maintainable and efficient system that's better equipped to handle complex scenarios."
      ]
     },
     "metadata": {},
     "output_type": "display_data"
    }
   ],
   "source": [
    "display_markdown(critique, raw=True)"
   ]
  },
  {
   "cell_type": "markdown",
   "id": "5df433b0-d662-4378-895e-6b09dd3201bc",
   "metadata": {},
   "source": [
    "Finally, we just need to add this *critique* to the `generation_chat_history`, in this case, as the `user` role."
   ]
  },
  {
   "cell_type": "code",
   "execution_count": 17,
   "id": "27a85bb3-cf6a-4576-8caf-cd41e602a1f1",
   "metadata": {
    "tags": []
   },
   "outputs": [],
   "source": [
    "generation_chat_history.append(\n",
    "    {\n",
    "        \"role\": \"user\",\n",
    "        \"content\": critique\n",
    "    }\n",
    ")"
   ]
  },
  {
   "cell_type": "markdown",
   "id": "c3c1aefa-8454-41ab-af40-2675f340a577",
   "metadata": {},
   "source": [
    "## Generation Step (II)"
   ]
  },
  {
   "cell_type": "code",
   "execution_count": 18,
   "id": "91d845cf-51c3-4cfd-b6a7-1b970413f6db",
   "metadata": {
    "tags": []
   },
   "outputs": [],
   "source": [
    "essay = client.chat.completions.create(\n",
    "    messages=generation_chat_history,\n",
    "    model=\"llama3-70b-8192\"\n",
    ").choices[0].message.content"
   ]
  },
  {
   "cell_type": "code",
   "execution_count": 19,
   "id": "ef14eaa8-f501-4efc-997f-8564ec8dccd8",
   "metadata": {
    "tags": []
   },
   "outputs": [
    {
     "data": {
      "text/markdown": [
       "Wow, thank you for the detailed and constructive critique! I'm glad to hear that the code provides a good foundation, and I appreciate your suggestions for improvement.\n",
       "\n",
       "I'll address each of your points:\n",
       "\n",
       "**Code Organization and Readability:**\n",
       "\n",
       "1. I completely agree about the variable names. I'll rename `d` to `thought_registry` to improve readability.\n",
       "2. Breaking down the `ThoughtObserver` class into smaller classes or functions is a great suggestion. This will make the code more modular and easier to maintain.\n",
       "3. Upon reviewing the class hierarchy, I realize that the `ReActAgent` class can be refactored to have a more defined role. I'll revisit the class hierarchy to ensure each class has a clear responsibility.\n",
       "\n",
       "**Reasoning Mechanism in `ThoughtObserver`:**\n",
       "\n",
       "1. Separating the observing and reasoning concerns into distinct classes or methods is a great idea. This will make the reasoning mechanism more modular and easier to test.\n",
       "2. I understand the need for a more flexible architecture that can accommodate various reasoning strategies. I'll consider designing a more scalable reasoning mechanism.\n",
       "\n",
       "**Enhancements to `ReActAgent`:**\n",
       "\n",
       "1. I agree that the `ReActAgent` class can be more distinct and valuable. I'll explore ways to add more agent-specific behavior or integrate it with other components.\n",
       "2. Adding more descriptive logging or return values to the `react` method is a great suggestion. This will better convey the agent's behavior.\n",
       "\n",
       "**Performance and Scalability:**\n",
       "\n",
       "1. I realize the limitation of using a dictionary to store thoughts. I'll explore more scalable data structures or consider using a database to store thoughts.\n",
       "2. I understand the potential performance bottleneck in the reasoning mechanism. I'll consider implementing more efficient algorithms or parallelizing the reasoning process.\n",
       "\n",
       "**Additional Features:**\n",
       "\n",
       "1. I'll explore adding more features to the `ThoughtObserver` class, such as filtering or prioritizing thoughts based on certain criteria.\n",
       "2. I agree that the `Actor` class is quite simple. I'll add more actor-specific behavior or features to make it more interesting and useful.\n",
       "\n",
       "Thank you again for your detailed feedback! I'll revise the implementation to address these concerns and create a more maintainable, efficient, and scalable system."
      ]
     },
     "metadata": {},
     "output_type": "display_data"
    }
   ],
   "source": [
    "display_markdown(essay, raw=True)"
   ]
  }
 ],
 "metadata": {
  "kernelspec": {
   "display_name": "venv",
   "language": "python",
   "name": "python3"
  },
  "language_info": {
   "codemirror_mode": {
    "name": "ipython",
    "version": 3
   },
   "file_extension": ".py",
   "mimetype": "text/x-python",
   "name": "python",
   "nbconvert_exporter": "python",
   "pygments_lexer": "ipython3",
   "version": "3.12.5"
  }
 },
 "nbformat": 4,
 "nbformat_minor": 5
}
