{
 "cells": [
  {
   "cell_type": "markdown",
   "id": "0c8f2488",
   "metadata": {},
   "source": []
  },
  {
   "cell_type": "markdown",
   "id": "02c35b68",
   "metadata": {},
   "source": [
    "I came across a YT video about 'Make your Agents teachable!'.\n",
    "\n",
    "I thought I had missed something...\n",
    "\n",
    "In reality, it was extracting data from a response and then storing it in a DB so that it could be retrieved as needed in the future.\n",
    "\n",
    "Again, traditional Python not some new programming structure.\n"
   ]
  },
  {
   "cell_type": "code",
   "execution_count": 1,
   "id": "de23bb9e-37c5-4377-9a82-d7b6c648eeb6",
   "metadata": {},
   "outputs": [],
   "source": [
    "import os\n",
    "import json\n",
    "from openai import OpenAI\n",
    "from dotenv import load_dotenv\n",
    "from pprint import pprint"
   ]
  },
  {
   "cell_type": "code",
   "execution_count": 2,
   "id": "1179b4c5-cd1f-4131-a876-4c9f3f38d2ba",
   "metadata": {},
   "outputs": [
    {
     "name": "stdout",
     "output_type": "stream",
     "text": [
      "OpenAI API Key exists and begins:sk-proj-TVyeca...\n"
     ]
    }
   ],
   "source": [
    "load_dotenv()\n",
    "openai_api_key = os.getenv(\"OPENAI_API_KEY\")\n",
    "if openai_api_key:\n",
    "    print(f\"OpenAI API Key exists and begins:{openai_api_key[:14]}...\")\n",
    "else:\n",
    "    print(\"OpenAI API Key not set\")"
   ]
  },
  {
   "cell_type": "markdown",
   "id": "666d56bb",
   "metadata": {},
   "source": []
  },
  {
   "cell_type": "code",
   "execution_count": 3,
   "id": "797fe7b0-ad43-42d2-acf0-e4f309b112f0",
   "metadata": {},
   "outputs": [],
   "source": [
    "client = OpenAI()\n",
    "MODEL = \"gpt-4o-mini\""
   ]
  },
  {
   "cell_type": "markdown",
   "id": "4bf42837",
   "metadata": {},
   "source": [
    "Here we instruct the Agent to extract data from the response and also use some XML type tags as part of our prompt. Many LLMs use this feature in their responses.\n"
   ]
  },
  {
   "cell_type": "markdown",
   "id": "1687a70f",
   "metadata": {},
   "source": [
    "I am going to use some different syntax just to show that we can create our own output formats. We can use CAPS and Markdown styling to emphasise important points.\n"
   ]
  },
  {
   "cell_type": "code",
   "execution_count": 4,
   "id": "378a0296-59a2-45c6-82eb-941344d3eeff",
   "metadata": {},
   "outputs": [],
   "source": [
    "system_message = \"\"\"\n",
    "You are a teachability agent. You examine a conversation listed between <conv> and </conv> and output a list of pertinent facts,\n",
    "as well as a concise summary. \n",
    "The OUTPUT FORMAT *must have* in the following JSON FORMAT:\n",
    "\n",
    "{\n",
    "    \"summary\": <SUMMARY>,\n",
    "    \"number_of_facts\": <NUMBER_OF_FACTS>,\n",
    "    \"facts\": [<FACTS>]\n",
    "}\n",
    "\n",
    "A fact is a dictionary with the following keys: \"fact\" and \"catgerory\".\n",
    "\n",
    "Here are some examples of facts:\n",
    "\n",
    "{\"fact\": \"Charles is a vegan and won't eat any meat.\", \"category\": \"personal\"}\n",
    "{\"fact\": \"Charles works in Brighton\", \"category\": \"work\"}\n",
    "{\"fact\": \"They have four dogs\", \"category\": \"pets\"}\n",
    "\n",
    "## NOT A FACT\n",
    "This is not a fact as it does not refer to a person:\n",
    "\"London is a city and the capital of England\"\n",
    "\n",
    "## NUMBER_OF_FACTS\n",
    "<NUMBER_OF_FACTS> stores the number of facts in the \"facts\" list\n",
    "*Be as specific as you can about the categories*\n",
    "\"\"\""
   ]
  },
  {
   "cell_type": "code",
   "execution_count": 5,
   "id": "5ada182c",
   "metadata": {},
   "outputs": [],
   "source": [
    "data = \"\"\"Peter is a vegan and won't eat any meat. He has been a vegan for over five years when he met his current wife Angela. They have two dogs, Roxy and Petra, and they both eat meat.\n",
    "\n",
    "They both work in London but live in Brighton near Seven Dials.\n",
    "\n",
    "They travel a lot and have visited the following countries in the last year - Italy, France and Germany.\n",
    "\n",
    "They have an active YouTube channel where they post videos about their travels.\n",
    "\n",
    "They have a cat named Marmalade.\n",
    "\n",
    "Brighton is based on the South Coast of England and is known for its beaches and nightlife.\"\"\""
   ]
  },
  {
   "cell_type": "code",
   "execution_count": 6,
   "id": "7a35028c",
   "metadata": {},
   "outputs": [],
   "source": [
    "system_message += \"<conv>\" + data + \"</conv>\""
   ]
  },
  {
   "cell_type": "code",
   "execution_count": 7,
   "id": "f4d56a0f-2a3d-484d-9344-0efa6862aff4",
   "metadata": {},
   "outputs": [],
   "source": [
    "prompts = [\n",
    "    {\"role\": \"system\", \"content\": system_message},\n",
    "    {\"role\": \"user\", \"content\": \"\"},\n",
    "]"
   ]
  },
  {
   "cell_type": "code",
   "execution_count": 8,
   "id": "3b3879b6-9a55-4fed-a18c-1ea2edfaf397",
   "metadata": {},
   "outputs": [],
   "source": [
    "response = client.chat.completions.create(model=MODEL, messages=prompts, temperature=0)\n",
    "res = response.choices[0].message.content.replace(\"\\n\", \"\")"
   ]
  },
  {
   "cell_type": "code",
   "execution_count": 9,
   "id": "7365da99",
   "metadata": {},
   "outputs": [],
   "source": [
    "output = json.loads(res)"
   ]
  },
  {
   "cell_type": "markdown",
   "id": "61dbc784",
   "metadata": {},
   "source": [
    "Having extracted information, we can store this in 'short term memory' - app level cache - or long term memory - stored in a DB for example\n",
    "and retrieved as needed and added to the SYSTEM MESSAGE.\n"
   ]
  },
  {
   "cell_type": "code",
   "execution_count": 10,
   "id": "8442dc5d",
   "metadata": {},
   "outputs": [
    {
     "name": "stdout",
     "output_type": "stream",
     "text": [
      "{'facts': [{'category': 'personal',\n",
      "            'fact': \"Peter is a vegan and won't eat any meat.\"},\n",
      "           {'category': 'personal',\n",
      "            'fact': 'Peter has been a vegan for over five years.'},\n",
      "           {'category': 'personal', 'fact': 'Peter is married to Angela.'},\n",
      "           {'category': 'pets',\n",
      "            'fact': 'They have two dogs named Roxy and Petra.'},\n",
      "           {'category': 'pets', 'fact': 'They have a cat named Marmalade.'},\n",
      "           {'category': 'work', 'fact': 'They both work in London.'},\n",
      "           {'category': 'location',\n",
      "            'fact': 'They live in Brighton near Seven Dials.'},\n",
      "           {'category': 'travel',\n",
      "            'fact': 'They have traveled to Italy, France, and Germany in the '\n",
      "                    'last year.'}],\n",
      " 'number_of_facts': 8,\n",
      " 'summary': 'Peter is a vegan who has been so for over five years. He lives in '\n",
      "            'Brighton with his wife Angela, and they have two dogs and a cat. '\n",
      "            'They both work in London and have traveled to several countries '\n",
      "            'in the past year, while also maintaining an active YouTube '\n",
      "            'channel about their travels.'}\n"
     ]
    }
   ],
   "source": [
    "pprint(output)"
   ]
  },
  {
   "cell_type": "code",
   "execution_count": 11,
   "id": "26b0b273",
   "metadata": {},
   "outputs": [
    {
     "name": "stdout",
     "output_type": "stream",
     "text": [
      "('Peter is a vegan who has been so for over five years. He lives in Brighton '\n",
      " 'with his wife Angela, and they have two dogs and a cat. They both work in '\n",
      " 'London and have traveled to several countries in the past year, while also '\n",
      " 'maintaining an active YouTube channel about their travels.')\n",
      "[{'category': 'personal', 'fact': \"Peter is a vegan and won't eat any meat.\"},\n",
      " {'category': 'personal',\n",
      "  'fact': 'Peter has been a vegan for over five years.'},\n",
      " {'category': 'personal', 'fact': 'Peter is married to Angela.'},\n",
      " {'category': 'pets', 'fact': 'They have two dogs named Roxy and Petra.'},\n",
      " {'category': 'pets', 'fact': 'They have a cat named Marmalade.'},\n",
      " {'category': 'work', 'fact': 'They both work in London.'},\n",
      " {'category': 'location', 'fact': 'They live in Brighton near Seven Dials.'},\n",
      " {'category': 'travel',\n",
      "  'fact': 'They have traveled to Italy, France, and Germany in the last year.'}]\n"
     ]
    }
   ],
   "source": [
    "pprint(output[\"summary\"])\n",
    "pprint(output[\"facts\"])"
   ]
  }
 ],
 "metadata": {
  "kernelspec": {
   "display_name": "venv",
   "language": "python",
   "name": "python3"
  },
  "language_info": {
   "codemirror_mode": {
    "name": "ipython",
    "version": 3
   },
   "file_extension": ".py",
   "mimetype": "text/x-python",
   "name": "python",
   "nbconvert_exporter": "python",
   "pygments_lexer": "ipython3",
   "version": "3.12.5"
  }
 },
 "nbformat": 4,
 "nbformat_minor": 5
}
