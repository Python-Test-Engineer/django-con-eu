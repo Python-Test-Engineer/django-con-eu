{
 "cells": [
  {
   "cell_type": "markdown",
   "id": "514b9aab",
   "metadata": {},
   "source": [
    "<img src=\"./ESSENCE.png\" width=700px>"
   ]
  },
  {
   "cell_type": "markdown",
   "id": "73f4d7b7-40bf-43b9-a626-2a11d5529ac8",
   "metadata": {},
   "source": [
    "### Reflection pattern\n",
    "\n",
    "## input -> function(input) -> output -> function(output) -> output2\n",
    "\n",
    "<img src=\"./INPUT_OUTPUT.png\" width=700px>\n",
    "\n",
    "\n"
   ]
  },
  {
   "cell_type": "markdown",
   "id": "874e847f",
   "metadata": {},
   "source": [
    "## Agent One is a code expert. Agent Two is an expert code reviewer.\n",
    "\n",
    "We generate a response with our first query using a system prompt to create code.\n",
    "\n",
    "We then pass the output into another function that acts as a reviewer to produce the next version of the code.\n",
    "\n",
    "This can be repeated until we reach certain criteria or MAX_ITERATIONS, whichever comes first.\n",
    "\n",
    "Each query is as if it was the first query with more information contained within it as each request is stateless."
   ]
  },
  {
   "cell_type": "code",
   "execution_count": 1,
   "id": "96731d2f-a079-4e41-9756-220f02d4ebd8",
   "metadata": {},
   "outputs": [],
   "source": [
    "import os\n",
    "from openai import OpenAI\n",
    "from dotenv import load_dotenv\n",
    "from IPython.display import display_markdown"
   ]
  },
  {
   "cell_type": "code",
   "execution_count": 2,
   "id": "9737534a",
   "metadata": {},
   "outputs": [],
   "source": [
    "def get_llm_client(llm_choice):\n",
    "    if llm_choice == \"GROQ\":\n",
    "        client = OpenAI(\n",
    "            base_url=\"https://api.groq.com/openai/v1\",\n",
    "            api_key=os.environ.get(\"GROQ_API_KEY\"),\n",
    "        )\n",
    "        return client\n",
    "    elif llm_choice == \"OPENAI\":\n",
    "        load_dotenv()  # load environment variables from .env fil\n",
    "        client = OpenAI(api_key=os.environ.get(\"OPENAI_API_KEY\"))\n",
    "        return client\n",
    "    else:\n",
    "        raise ValueError(\"Invalid LLM choice. Please choose 'GROQ' or 'OPENAI'.\")"
   ]
  },
  {
   "cell_type": "code",
   "execution_count": 3,
   "id": "2af18ff3",
   "metadata": {},
   "outputs": [
    {
     "name": "stdout",
     "output_type": "stream",
     "text": [
      "OPENAI_API_KEY exists and begins sk-proj-1WUVgv...\n",
      "GROQ_API_KEY exists and begins gsk_11hFN1EMfj...\n",
      "LLM_CHOICE: GROQ - MODEL: llama-3.3-70b-versatile\n"
     ]
    }
   ],
   "source": [
    "# Load environment variables in a file called .env\n",
    "# Print the key prefixes to help with any debugging\n",
    "load_dotenv()\n",
    "\n",
    "OPENAI_API_KEY = os.getenv(\"OPENAI_API_KEY\")\n",
    "GROQ_API_KEY = os.getenv(\"GROQ_API_KEY\")\n",
    "\n",
    "LLM_CHOICE = \"OPENAI\"\n",
    "LLM_CHOICE = \"GROQ\"\n",
    "\n",
    "if OPENAI_API_KEY:\n",
    "    print(f\"OPENAI_API_KEY exists and begins {OPENAI_API_KEY[:14]}...\")\n",
    "else:\n",
    "    print(\"OPENAI_API_KEY not set\")\n",
    "\n",
    "if GROQ_API_KEY:\n",
    "    print(f\"GROQ_API_KEY exists and begins {GROQ_API_KEY[:14]}...\")\n",
    "else:\n",
    "    print(\"GROQ_API_KEY not set\")\n",
    "\n",
    "\n",
    "client = get_llm_client(LLM_CHOICE)\n",
    "if LLM_CHOICE == \"GROQ\":\n",
    "    MODEL = \"llama-3.3-70b-versatile\"\n",
    "else:\n",
    "    MODEL = \"gpt-4o-mini\"\n",
    "\n",
    "print(f\"LLM_CHOICE: {LLM_CHOICE} - MODEL: {MODEL}\")"
   ]
  },
  {
   "cell_type": "markdown",
   "id": "e644a635-e035-44e2-8c25-cee0f2b56556",
   "metadata": {},
   "source": [
    "We will start the **\"generation\"** chat history with the system prompt, as we said before. In this case, let the LLM act like a Python\n",
    "programmer eager to receive feedback / critique by the user.\n"
   ]
  },
  {
   "cell_type": "code",
   "execution_count": 4,
   "id": "12467256-c741-495a-9923-439c1fcf270d",
   "metadata": {},
   "outputs": [],
   "source": [
    "content = \"\"\"\n",
    "You are a Python programmer tasked with generating high quality Python code. Your task is to Generate the best content possible for the user's request. If the user requests critique, respond with a revised version of your previous attempt.\n",
    "\"\"\"\n",
    "\n",
    "generation_chat_history = [{\"role\": \"system\", \"content\": content}]"
   ]
  },
  {
   "cell_type": "markdown",
   "id": "43149b4f-54db-455f-9d39-6ad2f5c52b94",
   "metadata": {},
   "source": [
    "Now, as the user, we are going to ask the LLM to generate an implementation of the Requests library\n"
   ]
  },
  {
   "cell_type": "code",
   "execution_count": 5,
   "id": "0742e7bd-4857-4ed1-a96b-37098d448bdd",
   "metadata": {},
   "outputs": [],
   "source": [
    "generation_chat_history.append(\n",
    "    {\n",
    "        \"role\": \"user\",\n",
    "        \"content\": \"Generate a Python implementation of requesting an API with the Requests library\",\n",
    "    }\n",
    ")"
   ]
  },
  {
   "cell_type": "markdown",
   "id": "4df1bffe-375f-4a9a-8433-e217eb94aea2",
   "metadata": {},
   "source": [
    "Let's generate the first version of the essay.\n"
   ]
  },
  {
   "cell_type": "code",
   "execution_count": 6,
   "id": "ff984277-733c-4495-b7fd-0669393380b8",
   "metadata": {},
   "outputs": [],
   "source": [
    "user_code = (\n",
    "    client.chat.completions.create(messages=generation_chat_history, model=MODEL)\n",
    "    .choices[0]\n",
    "    .message.content\n",
    ")\n",
    "\n",
    "\n",
    "generation_chat_history.append({\"role\": \"assistant\", \"content\": user_code})"
   ]
  },
  {
   "cell_type": "code",
   "execution_count": 7,
   "id": "c03f208b-2234-4fd1-a02b-f4fff06c01a6",
   "metadata": {},
   "outputs": [
    {
     "data": {
      "text/markdown": [
       "**API Request with Requests Library**\n",
       "=====================================\n",
       "\n",
       "Below is a Python implementation of requesting an API using the Requests library.\n",
       "\n",
       "### Prerequisites\n",
       "\n",
       "* Python 3.6+\n",
       "* `requests` library installed\n",
       "\n",
       "### Code\n",
       "\n",
       "```python\n",
       "import requests\n",
       "import json\n",
       "\n",
       "def make_api_request(url, method='GET', headers=None, params=None, data=None):\n",
       "    \"\"\"\n",
       "    Makes an API request using the Requests library.\n",
       "\n",
       "    Args:\n",
       "    - url (str): The URL of the API endpoint.\n",
       "    - method (str): The HTTP method to use (e.g. GET, POST, PUT, DELETE). Defaults to 'GET'.\n",
       "    - headers (dict): A dictionary of HTTP headers to include in the request.\n",
       "    - params (dict): A dictionary of query parameters to include in the request.\n",
       "    - data (dict): A dictionary of data to include in the request body.\n",
       "\n",
       "    Returns:\n",
       "    - response (requests.Response): The response from the API.\n",
       "    \"\"\"\n",
       "    if method.upper() == 'GET':\n",
       "        response = requests.get(url, headers=headers, params=params)\n",
       "    elif method.upper() == 'POST':\n",
       "        response = requests.post(url, headers=headers, params=params, json=data)\n",
       "    elif method.upper() == 'PUT':\n",
       "        response = requests.put(url, headers=headers, params=params, json=data)\n",
       "    elif method.upper() == 'DELETE':\n",
       "        response = requests.delete(url, headers=headers, params=params)\n",
       "    else:\n",
       "        raise ValueError(\"Invalid method. Supported methods are GET, POST, PUT, and DELETE.\")\n",
       "\n",
       "    return response\n",
       "\n",
       "def main():\n",
       "    # Example usage\n",
       "    url = 'https://jsonplaceholder.typicode.com/todos/1'\n",
       "    response = make_api_request(url)\n",
       "\n",
       "    if response.status_code == 200:\n",
       "        print(f\"Response status code: {response.status_code}\")\n",
       "        print(f\"Response content: {response.json()}\")\n",
       "    else:\n",
       "        print(f\"Error: {response.status_code}\")\n",
       "\n",
       "if __name__ == \"__main__\":\n",
       "    main()\n",
       "```\n",
       "\n",
       "### Explanation\n",
       "\n",
       "*   The `make_api_request` function takes in the API URL, HTTP method, headers, query parameters, and data as arguments.\n",
       "*   It uses the `requests` library to make the API request based on the provided method and returns the response.\n",
       "*   In the `main` function, an example usage of the `make_api_request` function is shown.\n",
       "*   The response status code and content are printed if the request is successful.\n",
       "\n",
       "### Usage\n",
       "\n",
       "1.  Replace the `url` variable in the `main` function with the API endpoint you want to request.\n",
       "2.  Modify the `make_api_request` function call in the `main` function to pass in the required headers, query parameters, and data for your API request.\n",
       "3.  Run the script using Python (e.g., `python api_request.py`)."
      ]
     },
     "metadata": {},
     "output_type": "display_data"
    }
   ],
   "source": [
    "display_markdown(user_code, raw=True)\n",
    "# Output below..."
   ]
  },
  {
   "cell_type": "markdown",
   "id": "6a04ebe5-0573-4520-a529-aff22d486b7d",
   "metadata": {},
   "source": [
    "## Reflection Step\n"
   ]
  },
  {
   "cell_type": "markdown",
   "id": "020433f1",
   "metadata": {},
   "source": [
    "This is equivalent to asking a follow up question in say ChatGPT and we change the system prompt or what we want it to do along with the output from the previous query.\n"
   ]
  },
  {
   "cell_type": "code",
   "execution_count": 8,
   "id": "9d93c928-d585-48af-a74c-a5b8d84593c6",
   "metadata": {
    "tags": []
   },
   "outputs": [],
   "source": [
    "reflection_chat_history = [\n",
    "    {\n",
    "        \"role\": \"system\",\n",
    "        \"content\": \"You are an experienced and talented Pythonista. You are tasked with generating critique and recommendations for the user's code\",\n",
    "    }\n",
    "]"
   ]
  },
  {
   "cell_type": "code",
   "execution_count": 9,
   "id": "26af1a73-4d91-40e8-a9bc-c34d32b2ab82",
   "metadata": {
    "tags": []
   },
   "outputs": [],
   "source": [
    "# We add new messages to the list of messages so that the LLM has context and knowledge of what proceeded.\n",
    "\n",
    "# LLM calls are stateless and previous messages are not stored with the LLM. This is an important fact as we do not want to go over the context window for the LLM or incur unwanted costs if applicable.\n",
    "\n",
    "reflection_chat_history.append({\"role\": \"user\", \"content\": user_code})"
   ]
  },
  {
   "cell_type": "markdown",
   "id": "bfa994c8-3612-47b0-9571-e21d0d73d896",
   "metadata": {},
   "source": [
    "CRITIQUE TIME\n"
   ]
  },
  {
   "cell_type": "markdown",
   "id": "a628b75c",
   "metadata": {},
   "source": [
    "Now that we have the context and the request for a critique, we make a request to the LLM.\n"
   ]
  },
  {
   "cell_type": "code",
   "execution_count": 10,
   "id": "40fee42f-d47a-41b1-a40d-7208ba76ce98",
   "metadata": {
    "tags": []
   },
   "outputs": [],
   "source": [
    "critique = (\n",
    "    client.chat.completions.create(messages=reflection_chat_history, model=MODEL)\n",
    "    .choices[0]\n",
    "    .message.content\n",
    ")"
   ]
  },
  {
   "cell_type": "code",
   "execution_count": 11,
   "id": "0fef3203-c7f1-407f-8b9b-4e8ae140a4cb",
   "metadata": {
    "tags": []
   },
   "outputs": [
    {
     "data": {
      "text/markdown": [
       "**Code Review and Recommendations**\n",
       "=====================================\n",
       "\n",
       "The provided code is a nice implementation of making API requests using the Requests library in Python. However, there are a few areas that can be improved for better readability, maintainability, and robustness.\n",
       "\n",
       "### 1. Error Handling\n",
       "\n",
       "The code only checks for the status code of the response. It does not handle any exceptions that might occur during the request, such as connection errors or timeouts. It is a good practice to catch such exceptions and handle them accordingly.\n",
       "\n",
       "```python\n",
       "try:\n",
       "    response = make_api_request(url)\n",
       "except requests.exceptions.RequestException as e:\n",
       "    print(f\"Error: {e}\")\n",
       "```\n",
       "\n",
       "### 2. Response Validation\n",
       "\n",
       "The code assumes that the response will always contain a JSON payload. However, this might not be the case for all APIs. The code should check the content type of the response before trying to parse it as JSON.\n",
       "\n",
       "```python\n",
       "if 'application/json' in response.headers['Content-Type']:\n",
       "    print(f\"Response content: {response.json()}\")\n",
       "else:\n",
       "    print(f\"Response content: {response.text}\")\n",
       "```\n",
       "\n",
       "### 3. Type Hints\n",
       "\n",
       "The function `make_api_request` does not use type hints for its parameters and return type. Adding type hints can improve the readability and maintainability of the code.\n",
       "\n",
       "```python\n",
       "def make_api_request(url: str, method: str = 'GET', headers: dict = None, params: dict = None, data: dict = None) -> requests.Response:\n",
       "```\n",
       "\n",
       "### 4. Method Enumeration\n",
       "\n",
       "The code uses strings to represent the HTTP methods. This can be improved by using an enumeration instead. Python's `enum` module can be used for this purpose.\n",
       "\n",
       "```python\n",
       "from enum import Enum\n",
       "\n",
       "class HttpMethod(Enum):\n",
       "    GET = 'GET'\n",
       "    POST = 'POST'\n",
       "    PUT = 'PUT'\n",
       "    DELETE = 'DELETE'\n",
       "\n",
       "def make_api_request(url: str, method: HttpMethod = HttpMethod.GET, headers: dict = None, params: dict = None, data: dict = None) -> requests.Response:\n",
       "```\n",
       "\n",
       "### 5. Redundant Code\n",
       "\n",
       "The code has redundant `if-elif-else` statements for handling different HTTP methods. This can be improved by using a dictionary to map the HTTP methods to their corresponding functions.\n",
       "\n",
       "```python\n",
       "def make_api_request(url: str, method: HttpMethod = HttpMethod.GET, headers: dict = None, params: dict = None, data: dict = None) -> requests.Response:\n",
       "    methods = {\n",
       "        HttpMethod.GET: requests.get,\n",
       "        HttpMethod.POST: requests.post,\n",
       "        HttpMethod.PUT: requests.put,\n",
       "        HttpMethod.DELETE: requests.delete\n",
       "    }\n",
       "\n",
       "    if method in methods:\n",
       "        response = methods[method](url, headers=headers, params=params, json=data)\n",
       "    else:\n",
       "        raise ValueError(\"Invalid method\")\n",
       "```\n",
       "\n",
       "### 6. Code Refactoring\n",
       "\n",
       "The code can be refactored to reduce repetition and improve readability.\n",
       "\n",
       "```python\n",
       "import requests\n",
       "import json\n",
       "from enum import Enum\n",
       "\n",
       "class HttpMethod(Enum):\n",
       "    GET = 'GET'\n",
       "    POST = 'POST'\n",
       "    PUT = 'PUT'\n",
       "    DELETE = 'DELETE'\n",
       "\n",
       "def make_api_request(url: str, method: HttpMethod = HttpMethod.GET, headers: dict = None, params: dict = None, data: dict = None) -> requests.Response:\n",
       "    methods = {\n",
       "        HttpMethod.GET: requests.get,\n",
       "        HttpMethod.POST: requests.post,\n",
       "        HttpMethod.PUT: requests.put,\n",
       "        HttpMethod.DELETE: requests.delete\n",
       "    }\n",
       "\n",
       "    try:\n",
       "        if method in methods:\n",
       "            response = methods[method](url, headers=headers, params=params, json=data)\n",
       "            response.raise_for_status()  # Raise an exception for bad status codes\n",
       "            return response\n",
       "        else:\n",
       "            raise ValueError(\"Invalid method\")\n",
       "    except requests.exceptions.RequestException as e:\n",
       "        print(f\"Error: {e}\")\n",
       "\n",
       "def main():\n",
       "    url = 'https://jsonplaceholder.typicode.com/todos/1'\n",
       "    response = make_api_request(url)\n",
       "\n",
       "    if response:\n",
       "        if 'application/json' in response.headers['Content-Type']:\n",
       "            print(f\"Response content: {response.json()}\")\n",
       "        else:\n",
       "            print(f\"Response content: {response.text}\")\n",
       "\n",
       "if __name__ == \"__main__\":\n",
       "    main()\n",
       "```\n",
       "\n",
       "This refactored code improves the readability and maintainability of the original code. It also adds better error handling and reduces repetition."
      ]
     },
     "metadata": {},
     "output_type": "display_data"
    }
   ],
   "source": [
    "# Display\n",
    "\n",
    "display_markdown(critique, raw=True)\n",
    "# Critique displayed below..."
   ]
  },
  {
   "cell_type": "markdown",
   "id": "5df433b0-d662-4378-895e-6b09dd3201bc",
   "metadata": {},
   "source": [
    "Add CRITIQUE to chat...\n",
    "\n",
    "Notice how we are appending previous responses so that the next SYSTEM MESSAGE has history or context.\n"
   ]
  },
  {
   "cell_type": "code",
   "execution_count": 12,
   "id": "27a85bb3-cf6a-4576-8caf-cd41e602a1f1",
   "metadata": {
    "tags": []
   },
   "outputs": [],
   "source": [
    "generation_chat_history.append({\"role\": \"user\", \"content\": critique})"
   ]
  },
  {
   "cell_type": "markdown",
   "id": "c3c1aefa-8454-41ab-af40-2675f340a577",
   "metadata": {},
   "source": [
    "Response to CRITIQUE\n"
   ]
  },
  {
   "cell_type": "code",
   "execution_count": 13,
   "id": "91d845cf-51c3-4cfd-b6a7-1b970413f6db",
   "metadata": {
    "tags": []
   },
   "outputs": [],
   "source": [
    "essay = (\n",
    "    client.chat.completions.create(messages=generation_chat_history, model=MODEL)\n",
    "    .choices[0]\n",
    "    .message.content\n",
    ")"
   ]
  },
  {
   "cell_type": "code",
   "execution_count": 14,
   "id": "ef14eaa8-f501-4efc-997f-8564ec8dccd8",
   "metadata": {
    "tags": []
   },
   "outputs": [
    {
     "data": {
      "text/markdown": [
       "The provided review and recommendations are excellent and address several key areas for improvement in the original code. Here's a further refactored version of the code that incorporates all the suggestions and adds a few more improvements for better readability, maintainability, and robustness.\n",
       "\n",
       "```python\n",
       "import requests\n",
       "import json\n",
       "from enum import Enum\n",
       "\n",
       "class HttpMethod(Enum):\n",
       "    GET = 'GET'\n",
       "    POST = 'POST'\n",
       "    PUT = 'PUT'\n",
       "    DELETE = 'DELETE'\n",
       "\n",
       "class ApiResponse:\n",
       "    def __init__(self, response: requests.Response):\n",
       "        self.response = response\n",
       "        self.status_code = response.status_code\n",
       "        self.headers = response.headers\n",
       "        self.content_type = self.headers.get('Content-Type')\n",
       "\n",
       "    def get_json(self):\n",
       "        if 'application/json' in self.content_type:\n",
       "            return self.response.json()\n",
       "        return None\n",
       "\n",
       "    def get_text(self):\n",
       "        return self.response.text\n",
       "\n",
       "def make_api_request(url: str, method: HttpMethod = HttpMethod.GET, headers: dict = None, params: dict = None, data: dict = None) -> ApiResponse:\n",
       "    methods = {\n",
       "        HttpMethod.GET: requests.get,\n",
       "        HttpMethod.POST: requests.post,\n",
       "        HttpMethod.PUT: requests.put,\n",
       "        HttpMethod.DELETE: requests.delete\n",
       "    }\n",
       "\n",
       "    try:\n",
       "        if method in methods:\n",
       "            response = methods[method](url, headers=headers, params=params, json=data)\n",
       "            response.raise_for_status()  # Raise an exception for bad status codes\n",
       "            return ApiResponse(response)\n",
       "        else:\n",
       "            raise ValueError(\"Invalid method\")\n",
       "    except requests.exceptions.RequestException as e:\n",
       "        print(f\"Error: {e}\")\n",
       "        return None\n",
       "\n",
       "def main():\n",
       "    url = 'https://jsonplaceholder.typicode.com/todos/1'\n",
       "    response = make_api_request(url)\n",
       "\n",
       "    if response:\n",
       "        print(f\"Status Code: {response.status_code}\")\n",
       "        json_response = response.get_json()\n",
       "        if json_response:\n",
       "            print(f\"JSON Response: {json_response}\")\n",
       "        else:\n",
       "            print(f\"Text Response: {response.get_text()}\")\n",
       "\n",
       "if __name__ == \"__main__\":\n",
       "    main()\n",
       "```\n",
       "\n",
       "This refactored code includes the following improvements:\n",
       "\n",
       "1.  **Added a separate `ApiResponse` class**: This class encapsulates the response from the API, providing a clear and organized way to access the response's status code, headers, and content.\n",
       "2.  **Improved error handling**: The code now handles exceptions that may occur during the API request, providing a clear error message and returning `None` in case of an error.\n",
       "3.  **Added `get_json` and `get_text` methods**: These methods allow you to easily retrieve the response as JSON or text, depending on the content type of the response.\n",
       "4.  **Simplified the `main` function**: The `main` function now only needs to call `make_api_request` and handle the response, making it easier to read and understand.\n",
       "5.  **Improved code organization**: The code is now more modular, with separate classes and functions for handling API responses and making API requests. This makes it easier to maintain and extend the code.\n",
       "\n",
       "Overall, this refactored code provides a robust, maintainable, and readable solution for making API requests and handling responses in Python."
      ]
     },
     "metadata": {},
     "output_type": "display_data"
    }
   ],
   "source": [
    "# Diaply user response to CRITIQUE\n",
    "display_markdown(essay, raw=True)\n",
    "# Response to critique displayed below..."
   ]
  },
  {
   "cell_type": "markdown",
   "id": "75883af2-f31d-4c24-b1ff-315a0711f9fa",
   "metadata": {},
   "source": [
    "<br>\n",
    "\n",
    "### We can of course make this a Class...\n"
   ]
  }
 ],
 "metadata": {
  "kernelspec": {
   "display_name": "venv",
   "language": "python",
   "name": "python3"
  },
  "language_info": {
   "codemirror_mode": {
    "name": "ipython",
    "version": 3
   },
   "file_extension": ".py",
   "mimetype": "text/x-python",
   "name": "python",
   "nbconvert_exporter": "python",
   "pygments_lexer": "ipython3",
   "version": "3.12.9"
  }
 },
 "nbformat": 4,
 "nbformat_minor": 5
}
